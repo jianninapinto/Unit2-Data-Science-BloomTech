{
  "cells": [
    {
      "cell_type": "markdown",
      "metadata": {
        "id": "9qfXpY-WotYT"
      },
      "source": [
        "<hr style=\"border:2px solid gray\">\n",
        "\n",
        "#**NOTE:**  Run all cells until Step 1"
      ],
      "id": "9qfXpY-WotYT"
    },
    {
      "cell_type": "markdown",
      "metadata": {
        "id": "_yPKwgBDSlDk"
      },
      "source": [
        "### Import libraries and define the data path"
      ],
      "id": "_yPKwgBDSlDk"
    },
    {
      "cell_type": "code",
      "execution_count": 1,
      "id": "cc23e318",
      "metadata": {
        "id": "cc23e318"
      },
      "outputs": [],
      "source": [
        "# import the necessary libraries \n",
        "\n",
        "import pandas as pd\n",
        "import numpy as np\n",
        "from matplotlib import pyplot as plt\n",
        "\n",
        "\n",
        "from sklearn.model_selection import train_test_split\n",
        "from sklearn.pipeline import make_pipeline\n",
        "from sklearn.ensemble import RandomForestClassifier\n",
        "from sklearn.metrics import accuracy_score\n",
        "\n",
        "from sklearn.metrics import plot_confusion_matrix, classification_report\n",
        "from sklearn.model_selection import RandomizedSearchCV,GridSearchCV"
      ]
    },
    {
      "cell_type": "code",
      "source": [
        "%%capture\n",
        "\n",
        "!pip install category_encoders==2.*\n",
        "from category_encoders import OrdinalEncoder"
      ],
      "metadata": {
        "id": "GjsjJAMBPPEr"
      },
      "id": "GjsjJAMBPPEr",
      "execution_count": 2,
      "outputs": []
    },
    {
      "cell_type": "code",
      "source": [
        "#Update the DATA_PATH variable\n",
        "\n",
        "import sys\n",
        "\n",
        "if 'google.colab' in sys.modules:\n",
        "  # If you're on Colab:\n",
        "  DATA_PATH = 'https://raw.githubusercontent.com/bloominstituteoftechnology/ds_code_along_unit_2/main/data/flight/'\n",
        "else:\n",
        "  # If you're working locally:\n",
        "  DATA_PATH = '..../data/'"
      ],
      "metadata": {
        "id": "cRf6g2NbNzcB"
      },
      "id": "cRf6g2NbNzcB",
      "execution_count": 3,
      "outputs": []
    },
    {
      "cell_type": "markdown",
      "id": "21d990b1",
      "metadata": {
        "id": "21d990b1"
      },
      "source": [
        "### Wrangle the dataset"
      ]
    },
    {
      "cell_type": "markdown",
      "source": [
        "We are going to work on the Flight dataset today. Instead of predicting the price, we will covert the problem into a binary classification task, and try to predict if the flight is operated by a particular airline of interest or not."
      ],
      "metadata": {
        "id": "0unaasFrQ7pT"
      },
      "id": "0unaasFrQ7pT"
    },
    {
      "cell_type": "markdown",
      "source": [
        "The wrangle function below is very similar to the previous code-along notebook, with a few differences. We will no longer keep the ```Date_of_Journey``` column as we will be using use cross-validation in today's notebook, and want to avoid working with time-series cross-validation. This topic will be covered in Unit 4. Furthermore, we will be working with only the train csv file and not the test file. "
      ],
      "metadata": {
        "id": "yvMhl3axRTb6"
      },
      "id": "yvMhl3axRTb6"
    },
    {
      "cell_type": "code",
      "source": [
        "def wrangle(filepath):\n",
        "  df = pd.read_excel(filepath)\n",
        "\n",
        "  # Drop row(s) where there is/are missing values\n",
        "  df.dropna(inplace = True)\n",
        "  \n",
        "  # Duration is in a string format. Converting duration into minutes.\n",
        "  df['Duration'] = df['Duration'].apply(convert_duration)\n",
        "\n",
        "  # Formatting the stops. 'non-stop' output is replaced by 0 in the Total_Stops,\n",
        "  # and the rest of the values would be filled in by the number of stops\n",
        "\n",
        "  df['Total_Stops'] = df['Total_Stops'].str.split(\" \").str[0]\n",
        "  df['Total_Stops'].replace('non-stop' , 0 , inplace = True)\n",
        "\n",
        "  # Converting the stops dtype to int\n",
        "  df['Total_Stops'] = df[\"Total_Stops\"].astype(int)\n",
        "\n",
        "  # drop the columns that are not needed\n",
        "  df.drop(columns=['Date_of_Journey', 'Route','Dep_Time','Arrival_Time','Additional_Info'], inplace=True)\n",
        "  \n",
        "  # ADD: create new binary target column\n",
        "\n",
        "\n",
        "  # ADD: drop airline column to prevent data leakage\n",
        "\n",
        "\n",
        "\n",
        "  return df\n",
        "\n",
        "def convert_duration(duration):\n",
        "    if len(duration.split()) == 2:\n",
        "        hours = int(duration.split()[0][:-1])\n",
        "        minutes = int(duration.split()[1][:-1])\n",
        "        return hours * 60 + minutes\n",
        "    else:\n",
        "        return int(duration[:-1]) * 60\n",
        "\n",
        "\n",
        "df = wrangle(DATA_PATH + 'Data_Train.xlsx')"
      ],
      "metadata": {
        "id": "KoHPBb7AwxCo"
      },
      "id": "KoHPBb7AwxCo",
      "execution_count": 4,
      "outputs": []
    },
    {
      "cell_type": "code",
      "source": [
        "# cleaned datasets after wrangling\n",
        "df.head()"
      ],
      "metadata": {
        "id": "TBjInlAOxLWx",
        "colab": {
          "base_uri": "https://localhost:8080/",
          "height": 206
        },
        "outputId": "5c6add18-e0f0-4499-dfc7-68aa184222e8"
      },
      "id": "TBjInlAOxLWx",
      "execution_count": 5,
      "outputs": [
        {
          "output_type": "execute_result",
          "data": {
            "text/plain": [
              "       Airline    Source Destination  Duration  Total_Stops  Price\n",
              "0       IndiGo  Banglore   New Delhi       170            0   3897\n",
              "1    Air India   Kolkata    Banglore       445            2   7662\n",
              "2  Jet Airways     Delhi      Cochin      1140            2  13882\n",
              "3       IndiGo   Kolkata    Banglore       325            1   6218\n",
              "4       IndiGo  Banglore   New Delhi       285            1  13302"
            ],
            "text/html": [
              "\n",
              "  <div id=\"df-50cbabb4-536e-4d34-83da-5f7f1a640963\">\n",
              "    <div class=\"colab-df-container\">\n",
              "      <div>\n",
              "<style scoped>\n",
              "    .dataframe tbody tr th:only-of-type {\n",
              "        vertical-align: middle;\n",
              "    }\n",
              "\n",
              "    .dataframe tbody tr th {\n",
              "        vertical-align: top;\n",
              "    }\n",
              "\n",
              "    .dataframe thead th {\n",
              "        text-align: right;\n",
              "    }\n",
              "</style>\n",
              "<table border=\"1\" class=\"dataframe\">\n",
              "  <thead>\n",
              "    <tr style=\"text-align: right;\">\n",
              "      <th></th>\n",
              "      <th>Airline</th>\n",
              "      <th>Source</th>\n",
              "      <th>Destination</th>\n",
              "      <th>Duration</th>\n",
              "      <th>Total_Stops</th>\n",
              "      <th>Price</th>\n",
              "    </tr>\n",
              "  </thead>\n",
              "  <tbody>\n",
              "    <tr>\n",
              "      <th>0</th>\n",
              "      <td>IndiGo</td>\n",
              "      <td>Banglore</td>\n",
              "      <td>New Delhi</td>\n",
              "      <td>170</td>\n",
              "      <td>0</td>\n",
              "      <td>3897</td>\n",
              "    </tr>\n",
              "    <tr>\n",
              "      <th>1</th>\n",
              "      <td>Air India</td>\n",
              "      <td>Kolkata</td>\n",
              "      <td>Banglore</td>\n",
              "      <td>445</td>\n",
              "      <td>2</td>\n",
              "      <td>7662</td>\n",
              "    </tr>\n",
              "    <tr>\n",
              "      <th>2</th>\n",
              "      <td>Jet Airways</td>\n",
              "      <td>Delhi</td>\n",
              "      <td>Cochin</td>\n",
              "      <td>1140</td>\n",
              "      <td>2</td>\n",
              "      <td>13882</td>\n",
              "    </tr>\n",
              "    <tr>\n",
              "      <th>3</th>\n",
              "      <td>IndiGo</td>\n",
              "      <td>Kolkata</td>\n",
              "      <td>Banglore</td>\n",
              "      <td>325</td>\n",
              "      <td>1</td>\n",
              "      <td>6218</td>\n",
              "    </tr>\n",
              "    <tr>\n",
              "      <th>4</th>\n",
              "      <td>IndiGo</td>\n",
              "      <td>Banglore</td>\n",
              "      <td>New Delhi</td>\n",
              "      <td>285</td>\n",
              "      <td>1</td>\n",
              "      <td>13302</td>\n",
              "    </tr>\n",
              "  </tbody>\n",
              "</table>\n",
              "</div>\n",
              "      <button class=\"colab-df-convert\" onclick=\"convertToInteractive('df-50cbabb4-536e-4d34-83da-5f7f1a640963')\"\n",
              "              title=\"Convert this dataframe to an interactive table.\"\n",
              "              style=\"display:none;\">\n",
              "        \n",
              "  <svg xmlns=\"http://www.w3.org/2000/svg\" height=\"24px\"viewBox=\"0 0 24 24\"\n",
              "       width=\"24px\">\n",
              "    <path d=\"M0 0h24v24H0V0z\" fill=\"none\"/>\n",
              "    <path d=\"M18.56 5.44l.94 2.06.94-2.06 2.06-.94-2.06-.94-.94-2.06-.94 2.06-2.06.94zm-11 1L8.5 8.5l.94-2.06 2.06-.94-2.06-.94L8.5 2.5l-.94 2.06-2.06.94zm10 10l.94 2.06.94-2.06 2.06-.94-2.06-.94-.94-2.06-.94 2.06-2.06.94z\"/><path d=\"M17.41 7.96l-1.37-1.37c-.4-.4-.92-.59-1.43-.59-.52 0-1.04.2-1.43.59L10.3 9.45l-7.72 7.72c-.78.78-.78 2.05 0 2.83L4 21.41c.39.39.9.59 1.41.59.51 0 1.02-.2 1.41-.59l7.78-7.78 2.81-2.81c.8-.78.8-2.07 0-2.86zM5.41 20L4 18.59l7.72-7.72 1.47 1.35L5.41 20z\"/>\n",
              "  </svg>\n",
              "      </button>\n",
              "      \n",
              "  <style>\n",
              "    .colab-df-container {\n",
              "      display:flex;\n",
              "      flex-wrap:wrap;\n",
              "      gap: 12px;\n",
              "    }\n",
              "\n",
              "    .colab-df-convert {\n",
              "      background-color: #E8F0FE;\n",
              "      border: none;\n",
              "      border-radius: 50%;\n",
              "      cursor: pointer;\n",
              "      display: none;\n",
              "      fill: #1967D2;\n",
              "      height: 32px;\n",
              "      padding: 0 0 0 0;\n",
              "      width: 32px;\n",
              "    }\n",
              "\n",
              "    .colab-df-convert:hover {\n",
              "      background-color: #E2EBFA;\n",
              "      box-shadow: 0px 1px 2px rgba(60, 64, 67, 0.3), 0px 1px 3px 1px rgba(60, 64, 67, 0.15);\n",
              "      fill: #174EA6;\n",
              "    }\n",
              "\n",
              "    [theme=dark] .colab-df-convert {\n",
              "      background-color: #3B4455;\n",
              "      fill: #D2E3FC;\n",
              "    }\n",
              "\n",
              "    [theme=dark] .colab-df-convert:hover {\n",
              "      background-color: #434B5C;\n",
              "      box-shadow: 0px 1px 3px 1px rgba(0, 0, 0, 0.15);\n",
              "      filter: drop-shadow(0px 1px 2px rgba(0, 0, 0, 0.3));\n",
              "      fill: #FFFFFF;\n",
              "    }\n",
              "  </style>\n",
              "\n",
              "      <script>\n",
              "        const buttonEl =\n",
              "          document.querySelector('#df-50cbabb4-536e-4d34-83da-5f7f1a640963 button.colab-df-convert');\n",
              "        buttonEl.style.display =\n",
              "          google.colab.kernel.accessAllowed ? 'block' : 'none';\n",
              "\n",
              "        async function convertToInteractive(key) {\n",
              "          const element = document.querySelector('#df-50cbabb4-536e-4d34-83da-5f7f1a640963');\n",
              "          const dataTable =\n",
              "            await google.colab.kernel.invokeFunction('convertToInteractive',\n",
              "                                                     [key], {});\n",
              "          if (!dataTable) return;\n",
              "\n",
              "          const docLinkHtml = 'Like what you see? Visit the ' +\n",
              "            '<a target=\"_blank\" href=https://colab.research.google.com/notebooks/data_table.ipynb>data table notebook</a>'\n",
              "            + ' to learn more about interactive tables.';\n",
              "          element.innerHTML = '';\n",
              "          dataTable['output_type'] = 'display_data';\n",
              "          await google.colab.output.renderOutput(dataTable, element);\n",
              "          const docLink = document.createElement('div');\n",
              "          docLink.innerHTML = docLinkHtml;\n",
              "          element.appendChild(docLink);\n",
              "        }\n",
              "      </script>\n",
              "    </div>\n",
              "  </div>\n",
              "  "
            ]
          },
          "metadata": {},
          "execution_count": 5
        }
      ]
    },
    {
      "cell_type": "code",
      "source": [
        "# How many rows and columns are in the dataset?\n",
        "df.shape"
      ],
      "metadata": {
        "colab": {
          "base_uri": "https://localhost:8080/"
        },
        "id": "jkgNwN8m9vbd",
        "outputId": "1ea5b1a5-3dc5-4679-b28a-cbc961766870"
      },
      "id": "jkgNwN8m9vbd",
      "execution_count": 6,
      "outputs": [
        {
          "output_type": "execute_result",
          "data": {
            "text/plain": [
              "(10682, 6)"
            ]
          },
          "metadata": {},
          "execution_count": 6
        }
      ]
    },
    {
      "cell_type": "code",
      "source": [
        "# do we have any null values? \n",
        "df.info()"
      ],
      "metadata": {
        "id": "A1J3hT2eOmDL",
        "colab": {
          "base_uri": "https://localhost:8080/"
        },
        "outputId": "ace0f16f-77e4-490a-c2d4-375a9b3ffe1e"
      },
      "id": "A1J3hT2eOmDL",
      "execution_count": 7,
      "outputs": [
        {
          "output_type": "stream",
          "name": "stdout",
          "text": [
            "<class 'pandas.core.frame.DataFrame'>\n",
            "Int64Index: 10682 entries, 0 to 10682\n",
            "Data columns (total 6 columns):\n",
            " #   Column       Non-Null Count  Dtype \n",
            "---  ------       --------------  ----- \n",
            " 0   Airline      10682 non-null  object\n",
            " 1   Source       10682 non-null  object\n",
            " 2   Destination  10682 non-null  object\n",
            " 3   Duration     10682 non-null  int64 \n",
            " 4   Total_Stops  10682 non-null  int64 \n",
            " 5   Price        10682 non-null  int64 \n",
            "dtypes: int64(3), object(3)\n",
            "memory usage: 584.2+ KB\n"
          ]
        }
      ]
    },
    {
      "cell_type": "markdown",
      "metadata": {
        "id": "6cab7a54"
      },
      "source": [
        "<hr style=\"border:2px solid gray\">\n",
        "\n",
        "#**STEP: 1/4** - Convert multi-class target into binary target"
      ],
      "id": "6cab7a54"
    },
    {
      "cell_type": "code",
      "source": [
        "# we will modify our multi-class problem to a binary problem\n",
        "# we will predict whether or not the flight is being operated Jet Airways\n",
        "\n",
        "df['Airline'].value_counts()"
      ],
      "metadata": {
        "id": "xpOoNfI3u02O",
        "colab": {
          "base_uri": "https://localhost:8080/"
        },
        "outputId": "650d6132-3c52-4910-e5fd-52e05d5d3db4"
      },
      "id": "xpOoNfI3u02O",
      "execution_count": null,
      "outputs": [
        {
          "output_type": "execute_result",
          "data": {
            "text/plain": [
              "Jet Airways                          3849\n",
              "IndiGo                               2053\n",
              "Air India                            1751\n",
              "Multiple carriers                    1196\n",
              "SpiceJet                              818\n",
              "Vistara                               479\n",
              "Air Asia                              319\n",
              "GoAir                                 194\n",
              "Multiple carriers Premium economy      13\n",
              "Jet Airways Business                    6\n",
              "Vistara Premium economy                 3\n",
              "Trujet                                  1\n",
              "Name: Airline, dtype: int64"
            ]
          },
          "metadata": {},
          "execution_count": 7
        }
      ]
    },
    {
      "cell_type": "code",
      "source": [
        "  # ADD following lines to the Wrangle function \n",
        "\n",
        "  # # create new binary target column\n",
        "  # df['Jet_Airways'] = np.where((df['Airline'] == 'Jet Airways Business')| (df['Airline'] == 'Jet Airways'), 1, 0)\n",
        "\n",
        "  # # # drop airline column to prevent data leakage\n",
        "  # df.drop(columns='Airline', inplace=True)"
      ],
      "metadata": {
        "id": "1mGHtkBqRfIB"
      },
      "id": "1mGHtkBqRfIB",
      "execution_count": null,
      "outputs": []
    },
    {
      "cell_type": "markdown",
      "metadata": {
        "id": "wHbG2nYrECr6"
      },
      "source": [
        "\n",
        "\n",
        "NOTE: Final wrangle function should look like this:"
      ],
      "id": "wHbG2nYrECr6"
    },
    {
      "cell_type": "code",
      "source": [
        "# final version of wrangle function\n",
        "\n",
        "def wrangle(filepath):\n",
        "  df = pd.read_excel(filepath)\n",
        "\n",
        "  # Drop row(s) where there is/are missing values\n",
        "  df.dropna(inplace = True)\n",
        "  \n",
        "  # Duration is in a string format. Converting duration into minutes.\n",
        "  df['Duration'] = df['Duration'].apply(convert_duration)\n",
        "\n",
        "  # formatting the stops. 'non-stop' output is replaced by 0 in the Total_Stops,\n",
        "  # and the rest of the values would be filled in by the number of stops\n",
        "\n",
        "  df['Total_Stops'] = df['Total_Stops'].str.split(\" \").str[0]\n",
        "  df['Total_Stops'].replace('non-stop' , 0 , inplace = True)\n",
        "\n",
        "  # Converting the stops dtype to int\n",
        "  df['Total_Stops'] = df[\"Total_Stops\"].astype(int)\n",
        "\n",
        "  # drop the columns that are not needed\n",
        "  df.drop(columns=['Date_of_Journey','Route','Dep_Time','Arrival_Time','Additional_Info'], inplace=True)\n",
        "\n",
        "  # create new binary target column\n",
        "  df['Jet_Airways'] = np.where((df['Airline'] == 'Jet Airways Business')| (df['Airline'] == 'Jet Airways'), 1, 0)\n",
        "\n",
        "  # drop airline column to prevent data leakage\n",
        "  df.drop(columns='Airline', inplace=True)\n",
        "\n",
        "  return df\n",
        "\n",
        "def convert_duration(duration):\n",
        "    if len(duration.split()) == 2:\n",
        "        hours = int(duration.split()[0][:-1])\n",
        "        minutes = int(duration.split()[1][:-1])\n",
        "        return hours * 60 + minutes\n",
        "    else:\n",
        "        return int(duration[:-1]) * 60\n",
        "\n",
        "\n",
        "df = wrangle(DATA_PATH + 'Data_Train.xlsx')\n"
      ],
      "metadata": {
        "id": "hcezZf3H-o83"
      },
      "id": "hcezZf3H-o83",
      "execution_count": 8,
      "outputs": []
    },
    {
      "cell_type": "code",
      "source": [
        "# First few rows in the dataframe\n",
        "df.head()"
      ],
      "metadata": {
        "id": "_fD8DRj5TotQ",
        "colab": {
          "base_uri": "https://localhost:8080/",
          "height": 206
        },
        "outputId": "009cd399-fe3e-452c-ac98-d41d029fd0aa"
      },
      "id": "_fD8DRj5TotQ",
      "execution_count": 9,
      "outputs": [
        {
          "output_type": "execute_result",
          "data": {
            "text/plain": [
              "     Source Destination  Duration  Total_Stops  Price  Jet_Airways\n",
              "0  Banglore   New Delhi       170            0   3897            0\n",
              "1   Kolkata    Banglore       445            2   7662            0\n",
              "2     Delhi      Cochin      1140            2  13882            1\n",
              "3   Kolkata    Banglore       325            1   6218            0\n",
              "4  Banglore   New Delhi       285            1  13302            0"
            ],
            "text/html": [
              "\n",
              "  <div id=\"df-a7d94380-1183-41c9-a34a-2312e70c9ab8\">\n",
              "    <div class=\"colab-df-container\">\n",
              "      <div>\n",
              "<style scoped>\n",
              "    .dataframe tbody tr th:only-of-type {\n",
              "        vertical-align: middle;\n",
              "    }\n",
              "\n",
              "    .dataframe tbody tr th {\n",
              "        vertical-align: top;\n",
              "    }\n",
              "\n",
              "    .dataframe thead th {\n",
              "        text-align: right;\n",
              "    }\n",
              "</style>\n",
              "<table border=\"1\" class=\"dataframe\">\n",
              "  <thead>\n",
              "    <tr style=\"text-align: right;\">\n",
              "      <th></th>\n",
              "      <th>Source</th>\n",
              "      <th>Destination</th>\n",
              "      <th>Duration</th>\n",
              "      <th>Total_Stops</th>\n",
              "      <th>Price</th>\n",
              "      <th>Jet_Airways</th>\n",
              "    </tr>\n",
              "  </thead>\n",
              "  <tbody>\n",
              "    <tr>\n",
              "      <th>0</th>\n",
              "      <td>Banglore</td>\n",
              "      <td>New Delhi</td>\n",
              "      <td>170</td>\n",
              "      <td>0</td>\n",
              "      <td>3897</td>\n",
              "      <td>0</td>\n",
              "    </tr>\n",
              "    <tr>\n",
              "      <th>1</th>\n",
              "      <td>Kolkata</td>\n",
              "      <td>Banglore</td>\n",
              "      <td>445</td>\n",
              "      <td>2</td>\n",
              "      <td>7662</td>\n",
              "      <td>0</td>\n",
              "    </tr>\n",
              "    <tr>\n",
              "      <th>2</th>\n",
              "      <td>Delhi</td>\n",
              "      <td>Cochin</td>\n",
              "      <td>1140</td>\n",
              "      <td>2</td>\n",
              "      <td>13882</td>\n",
              "      <td>1</td>\n",
              "    </tr>\n",
              "    <tr>\n",
              "      <th>3</th>\n",
              "      <td>Kolkata</td>\n",
              "      <td>Banglore</td>\n",
              "      <td>325</td>\n",
              "      <td>1</td>\n",
              "      <td>6218</td>\n",
              "      <td>0</td>\n",
              "    </tr>\n",
              "    <tr>\n",
              "      <th>4</th>\n",
              "      <td>Banglore</td>\n",
              "      <td>New Delhi</td>\n",
              "      <td>285</td>\n",
              "      <td>1</td>\n",
              "      <td>13302</td>\n",
              "      <td>0</td>\n",
              "    </tr>\n",
              "  </tbody>\n",
              "</table>\n",
              "</div>\n",
              "      <button class=\"colab-df-convert\" onclick=\"convertToInteractive('df-a7d94380-1183-41c9-a34a-2312e70c9ab8')\"\n",
              "              title=\"Convert this dataframe to an interactive table.\"\n",
              "              style=\"display:none;\">\n",
              "        \n",
              "  <svg xmlns=\"http://www.w3.org/2000/svg\" height=\"24px\"viewBox=\"0 0 24 24\"\n",
              "       width=\"24px\">\n",
              "    <path d=\"M0 0h24v24H0V0z\" fill=\"none\"/>\n",
              "    <path d=\"M18.56 5.44l.94 2.06.94-2.06 2.06-.94-2.06-.94-.94-2.06-.94 2.06-2.06.94zm-11 1L8.5 8.5l.94-2.06 2.06-.94-2.06-.94L8.5 2.5l-.94 2.06-2.06.94zm10 10l.94 2.06.94-2.06 2.06-.94-2.06-.94-.94-2.06-.94 2.06-2.06.94z\"/><path d=\"M17.41 7.96l-1.37-1.37c-.4-.4-.92-.59-1.43-.59-.52 0-1.04.2-1.43.59L10.3 9.45l-7.72 7.72c-.78.78-.78 2.05 0 2.83L4 21.41c.39.39.9.59 1.41.59.51 0 1.02-.2 1.41-.59l7.78-7.78 2.81-2.81c.8-.78.8-2.07 0-2.86zM5.41 20L4 18.59l7.72-7.72 1.47 1.35L5.41 20z\"/>\n",
              "  </svg>\n",
              "      </button>\n",
              "      \n",
              "  <style>\n",
              "    .colab-df-container {\n",
              "      display:flex;\n",
              "      flex-wrap:wrap;\n",
              "      gap: 12px;\n",
              "    }\n",
              "\n",
              "    .colab-df-convert {\n",
              "      background-color: #E8F0FE;\n",
              "      border: none;\n",
              "      border-radius: 50%;\n",
              "      cursor: pointer;\n",
              "      display: none;\n",
              "      fill: #1967D2;\n",
              "      height: 32px;\n",
              "      padding: 0 0 0 0;\n",
              "      width: 32px;\n",
              "    }\n",
              "\n",
              "    .colab-df-convert:hover {\n",
              "      background-color: #E2EBFA;\n",
              "      box-shadow: 0px 1px 2px rgba(60, 64, 67, 0.3), 0px 1px 3px 1px rgba(60, 64, 67, 0.15);\n",
              "      fill: #174EA6;\n",
              "    }\n",
              "\n",
              "    [theme=dark] .colab-df-convert {\n",
              "      background-color: #3B4455;\n",
              "      fill: #D2E3FC;\n",
              "    }\n",
              "\n",
              "    [theme=dark] .colab-df-convert:hover {\n",
              "      background-color: #434B5C;\n",
              "      box-shadow: 0px 1px 3px 1px rgba(0, 0, 0, 0.15);\n",
              "      filter: drop-shadow(0px 1px 2px rgba(0, 0, 0, 0.3));\n",
              "      fill: #FFFFFF;\n",
              "    }\n",
              "  </style>\n",
              "\n",
              "      <script>\n",
              "        const buttonEl =\n",
              "          document.querySelector('#df-a7d94380-1183-41c9-a34a-2312e70c9ab8 button.colab-df-convert');\n",
              "        buttonEl.style.display =\n",
              "          google.colab.kernel.accessAllowed ? 'block' : 'none';\n",
              "\n",
              "        async function convertToInteractive(key) {\n",
              "          const element = document.querySelector('#df-a7d94380-1183-41c9-a34a-2312e70c9ab8');\n",
              "          const dataTable =\n",
              "            await google.colab.kernel.invokeFunction('convertToInteractive',\n",
              "                                                     [key], {});\n",
              "          if (!dataTable) return;\n",
              "\n",
              "          const docLinkHtml = 'Like what you see? Visit the ' +\n",
              "            '<a target=\"_blank\" href=https://colab.research.google.com/notebooks/data_table.ipynb>data table notebook</a>'\n",
              "            + ' to learn more about interactive tables.';\n",
              "          element.innerHTML = '';\n",
              "          dataTable['output_type'] = 'display_data';\n",
              "          await google.colab.output.renderOutput(dataTable, element);\n",
              "          const docLink = document.createElement('div');\n",
              "          docLink.innerHTML = docLinkHtml;\n",
              "          element.appendChild(docLink);\n",
              "        }\n",
              "      </script>\n",
              "    </div>\n",
              "  </div>\n",
              "  "
            ]
          },
          "metadata": {},
          "execution_count": 9
        }
      ]
    },
    {
      "cell_type": "code",
      "source": [
        "# Dataframe shape\n",
        "df.shape"
      ],
      "metadata": {
        "colab": {
          "base_uri": "https://localhost:8080/"
        },
        "id": "M6BqY7OX-AIE",
        "outputId": "41b6e771-fa95-4892-ebea-b065dca962c7"
      },
      "id": "M6BqY7OX-AIE",
      "execution_count": 10,
      "outputs": [
        {
          "output_type": "execute_result",
          "data": {
            "text/plain": [
              "(10682, 6)"
            ]
          },
          "metadata": {},
          "execution_count": 10
        }
      ]
    },
    {
      "cell_type": "code",
      "execution_count": 11,
      "id": "af448e01",
      "metadata": {
        "id": "af448e01"
      },
      "outputs": [],
      "source": [
        "# Split the data into Feature Matrix and Target Vector\n",
        "\n",
        "target = 'Jet_Airways'\n",
        "y = df[target]\n",
        "X = df.drop(columns=target)"
      ]
    },
    {
      "cell_type": "markdown",
      "metadata": {
        "id": "4ZY9vf2sxbIE"
      },
      "source": [
        "<hr style=\"border:2px solid gray\">\n",
        "\n",
        "#**STEP: 2/4** - Randomized Search method"
      ],
      "id": "4ZY9vf2sxbIE"
    },
    {
      "cell_type": "code",
      "source": [
        "# Build model pipeline\n",
        "\n",
        "clf = make_pipeline(\n",
        "    OrdinalEncoder(),\n",
        "    RandomForestClassifier(random_state=42, n_jobs=-1)\n",
        ")\n",
        "\n",
        "# Build dictionary with parameters names (str) as keys and distributions or lists of parameters to try.\n",
        "\n",
        "param_dist = {\n",
        "    'randomforestclassifier__max_depth': range(5, 20, 5),\n",
        "    'randomforestclassifier__n_estimators': range(25, 100, 25)\n",
        "    }\n"
      ],
      "metadata": {
        "id": "tOc2lUyiid77"
      },
      "id": "tOc2lUyiid77",
      "execution_count": 12,
      "outputs": []
    },
    {
      "cell_type": "code",
      "source": [
        "# RandomizedSearchCV Method\n",
        "\n",
        "model_rf_random = RandomizedSearchCV(\n",
        "    clf, \n",
        "    param_distributions= param_dist,\n",
        "    n_iter=5, # Combinations to try\n",
        "    cv=5,\n",
        "    n_jobs = -1,\n",
        "    verbose=1\n",
        ")\n",
        "\n",
        "model_rf_random.fit(X, y)"
      ],
      "metadata": {
        "id": "UETthIHxE7Q9",
        "colab": {
          "base_uri": "https://localhost:8080/"
        },
        "outputId": "168f59f1-c2a2-4bb0-a686-215c38c856e3"
      },
      "id": "UETthIHxE7Q9",
      "execution_count": 13,
      "outputs": [
        {
          "output_type": "stream",
          "name": "stdout",
          "text": [
            "Fitting 5 folds for each of 5 candidates, totalling 25 fits\n"
          ]
        },
        {
          "output_type": "execute_result",
          "data": {
            "text/plain": [
              "RandomizedSearchCV(cv=5,\n",
              "                   estimator=Pipeline(steps=[('ordinalencoder',\n",
              "                                              OrdinalEncoder()),\n",
              "                                             ('randomforestclassifier',\n",
              "                                              RandomForestClassifier(n_jobs=-1,\n",
              "                                                                     random_state=42))]),\n",
              "                   n_iter=5, n_jobs=-1,\n",
              "                   param_distributions={'randomforestclassifier__max_depth': range(5, 20, 5),\n",
              "                                        'randomforestclassifier__n_estimators': range(25, 100, 25)},\n",
              "                   verbose=1)"
            ]
          },
          "metadata": {},
          "execution_count": 13
        }
      ]
    },
    {
      "cell_type": "code",
      "source": [
        "# Parameter setting that gave the best results on the hold out data.\n",
        "model_rf_random.best_params_"
      ],
      "metadata": {
        "id": "r8XWmXfXkByt",
        "colab": {
          "base_uri": "https://localhost:8080/"
        },
        "outputId": "2243c2fd-5647-4ee2-8b88-5ed9dd8f376a"
      },
      "id": "r8XWmXfXkByt",
      "execution_count": 14,
      "outputs": [
        {
          "output_type": "execute_result",
          "data": {
            "text/plain": [
              "{'randomforestclassifier__n_estimators': 50,\n",
              " 'randomforestclassifier__max_depth': 15}"
            ]
          },
          "metadata": {},
          "execution_count": 14
        }
      ]
    },
    {
      "cell_type": "code",
      "source": [
        "# Mean cross-validated score of the best_estimator\n",
        "model_rf_random.best_score_"
      ],
      "metadata": {
        "id": "yqD-m_9jkE-9",
        "colab": {
          "base_uri": "https://localhost:8080/"
        },
        "outputId": "0b1a6a4b-31ea-4a7a-a2fc-64c3b88268e7"
      },
      "id": "yqD-m_9jkE-9",
      "execution_count": 15,
      "outputs": [
        {
          "output_type": "execute_result",
          "data": {
            "text/plain": [
              "0.963022736553571"
            ]
          },
          "metadata": {},
          "execution_count": 15
        }
      ]
    },
    {
      "cell_type": "markdown",
      "metadata": {
        "id": "p5mnVxAycdi8"
      },
      "source": [
        "<hr style=\"border:2px solid gray\">\n",
        "\n",
        "#**STEP: 3/4** - Re-train a new model and build confusion matrix"
      ],
      "id": "p5mnVxAycdi8"
    },
    {
      "cell_type": "code",
      "execution_count": 16,
      "id": "dd0f938c",
      "metadata": {
        "id": "dd0f938c"
      },
      "outputs": [],
      "source": [
        "# Randomly split data into Train and Validation sets \n",
        "\n",
        "X_train, X_val, y_train, y_val = train_test_split(X, y, test_size=0.2, random_state=42)"
      ]
    },
    {
      "cell_type": "code",
      "source": [
        "# Determine the baseline for our classification task\n",
        "print('BASELINE accuracy', y_train.value_counts(normalize=True).max())"
      ],
      "metadata": {
        "id": "2Dy7NPgN42nm",
        "colab": {
          "base_uri": "https://localhost:8080/"
        },
        "outputId": "f3e7dc11-b0cf-4c4a-ea82-393a54d5343a"
      },
      "id": "2Dy7NPgN42nm",
      "execution_count": 17,
      "outputs": [
        {
          "output_type": "stream",
          "name": "stdout",
          "text": [
            "BASELINE accuracy 0.6423639555295494\n"
          ]
        }
      ]
    },
    {
      "cell_type": "code",
      "source": [
        "# Build a new Random Forest model with the Search Method results\n",
        "\n",
        "model_rf = make_pipeline(\n",
        "    OrdinalEncoder(),\n",
        "    RandomForestClassifier(random_state=42, n_jobs=-1, max_depth=15, n_estimators=50)\n",
        ")\n",
        "\n",
        "model_rf.fit(X_train,y_train);\n"
      ],
      "metadata": {
        "id": "4sF-Q5nSeAdC"
      },
      "id": "4sF-Q5nSeAdC",
      "execution_count": 18,
      "outputs": []
    },
    {
      "cell_type": "code",
      "source": [
        "# Evaluate the model performance and compare it to the baseline\n",
        "\n",
        "print('RF training accuracy:', accuracy_score(y_train, model_rf.predict(X_train)))\n",
        "print('RF validation accuracy:', accuracy_score(y_val, model_rf.predict(X_val)))"
      ],
      "metadata": {
        "id": "Kxta8Jq7i1ZB",
        "colab": {
          "base_uri": "https://localhost:8080/"
        },
        "outputId": "ee1ded74-2282-454b-e255-717c8d3962f6"
      },
      "id": "Kxta8Jq7i1ZB",
      "execution_count": 19,
      "outputs": [
        {
          "output_type": "stream",
          "name": "stdout",
          "text": [
            "RF training accuracy: 0.9961380924517261\n",
            "RF validation accuracy: 0.9620963968179691\n"
          ]
        }
      ]
    },
    {
      "cell_type": "code",
      "source": [
        "# Build confusion matrix\n",
        "\n",
        "plot_confusion_matrix(\n",
        "    model_rf,\n",
        "    X_val,\n",
        "    y_val,\n",
        "    values_format='.0f',\n",
        "    display_labels = ['Other Airline', 'Jet Airways']\n",
        "); "
      ],
      "metadata": {
        "id": "tcTFCT7FSO-B",
        "colab": {
          "base_uri": "https://localhost:8080/",
          "height": 334
        },
        "outputId": "f085b850-3d92-4f59-e144-263b21a71cf2"
      },
      "id": "tcTFCT7FSO-B",
      "execution_count": 22,
      "outputs": [
        {
          "output_type": "stream",
          "name": "stderr",
          "text": [
            "/usr/local/lib/python3.7/dist-packages/sklearn/utils/deprecation.py:87: FutureWarning: Function plot_confusion_matrix is deprecated; Function `plot_confusion_matrix` is deprecated in 1.0 and will be removed in 1.2. Use one of the class methods: ConfusionMatrixDisplay.from_predictions or ConfusionMatrixDisplay.from_estimator.\n",
            "  warnings.warn(msg, category=FutureWarning)\n"
          ]
        },
        {
          "output_type": "display_data",
          "data": {
            "text/plain": [
              "<Figure size 432x288 with 2 Axes>"
            ],
            "image/png": "[encoded data removed]"
          },
          "metadata": {
            "needs_background": "light"
          }
        }
      ]
    },
    {
      "cell_type": "code",
      "source": [
        "# precision = tp /(tp+fp)\n",
        "# recall = tp /(tp+fn)\n",
        "# accuracy = (tn+tp)/(tn+fp+fn+tp)\n",
        "# f1-score = 2 * (precision * recall) / (precision + recall)"
      ],
      "metadata": {
        "id": "lmY6aEJkUNq8"
      },
      "id": "lmY6aEJkUNq8",
      "execution_count": 23,
      "outputs": []
    },
    {
      "cell_type": "markdown",
      "metadata": {
        "id": "GKwJfqqtx2j_"
      },
      "source": [
        "<hr style=\"border:2px solid gray\">\n",
        "\n",
        "#**STEP: 4/4** - Modify classification threshold"
      ],
      "id": "GKwJfqqtx2j_"
    },
    {
      "cell_type": "code",
      "source": [
        "# Build classification report - the threshold default is 0.5\n",
        "\n",
        "print(classification_report(y_val,\n",
        "                            model_rf.predict(X_val),\n",
        "                            target_names=['Other Airline', 'Jet Airways'])) "
      ],
      "metadata": {
        "id": "Q6yyX9XkTMjD",
        "colab": {
          "base_uri": "https://localhost:8080/"
        },
        "outputId": "1eb9da97-a2da-4923-e56d-0d08bf7ee925"
      },
      "id": "Q6yyX9XkTMjD",
      "execution_count": 24,
      "outputs": [
        {
          "output_type": "stream",
          "name": "stdout",
          "text": [
            "               precision    recall  f1-score   support\n",
            "\n",
            "Other Airline       0.97      0.97      0.97      1338\n",
            "  Jet Airways       0.94      0.95      0.95       799\n",
            "\n",
            "     accuracy                           0.96      2137\n",
            "    macro avg       0.96      0.96      0.96      2137\n",
            " weighted avg       0.96      0.96      0.96      2137\n",
            "\n"
          ]
        }
      ]
    },
    {
      "cell_type": "code",
      "source": [
        "# Determine model predictions \n",
        "y_pred = model_rf.predict(X_val)\n",
        "\n",
        "# Select a new threshold value\n",
        "classification_threshold = .45\n",
        "\n",
        "# Determine the prediction probabilities\n",
        "y_pred_proba = model_rf.predict_proba(X_val)[:, -1]\n"
      ],
      "metadata": {
        "id": "8VeXDd-CUZbI"
      },
      "id": "8VeXDd-CUZbI",
      "execution_count": 25,
      "outputs": []
    },
    {
      "cell_type": "code",
      "source": [
        "y_pred = model_rf.predict(X_val)\n",
        "y_pred_new = y_pred.copy()"
      ],
      "metadata": {
        "id": "l76nd_ImPV6o"
      },
      "id": "l76nd_ImPV6o",
      "execution_count": 26,
      "outputs": []
    },
    {
      "cell_type": "code",
      "source": [
        "# Apply the new threshold to get new predictions\n",
        "y_pred_new[y_pred_proba >= classification_threshold] = 1\n",
        "y_pred_new[y_pred_proba < classification_threshold] = 0\n"
      ],
      "metadata": {
        "id": "n1XAkfbwPCY_"
      },
      "id": "n1XAkfbwPCY_",
      "execution_count": 27,
      "outputs": []
    },
    {
      "cell_type": "code",
      "source": [
        "# Check accuracy metric with new classification threshold\n",
        "print('RF validation accuracy -- new threshold:', accuracy_score(y_val, y_pred_new))"
      ],
      "metadata": {
        "id": "jXYDtxjofQCd",
        "colab": {
          "base_uri": "https://localhost:8080/"
        },
        "outputId": "37dece4d-5e07-41cb-bfff-dad0c724f88c"
      },
      "id": "jXYDtxjofQCd",
      "execution_count": 28,
      "outputs": [
        {
          "output_type": "stream",
          "name": "stdout",
          "text": [
            "RF validation accuracy -- new threshold: 0.9625643425362658\n"
          ]
        }
      ]
    },
    {
      "cell_type": "code",
      "source": [
        "# Build classification report with new predictions\n",
        "\n",
        "print(classification_report(y_val,\n",
        "                            y_pred_new,\n",
        "                            target_names=['Other Airline', 'Jet Airways'])) "
      ],
      "metadata": {
        "id": "ehR8zKWKfugY",
        "colab": {
          "base_uri": "https://localhost:8080/"
        },
        "outputId": "5acc3190-dcbb-4b3a-e727-8006207aec4e"
      },
      "id": "ehR8zKWKfugY",
      "execution_count": 29,
      "outputs": [
        {
          "output_type": "stream",
          "name": "stdout",
          "text": [
            "               precision    recall  f1-score   support\n",
            "\n",
            "Other Airline       0.98      0.96      0.97      1338\n",
            "  Jet Airways       0.94      0.96      0.95       799\n",
            "\n",
            "     accuracy                           0.96      2137\n",
            "    macro avg       0.96      0.96      0.96      2137\n",
            " weighted avg       0.96      0.96      0.96      2137\n",
            "\n"
          ]
        }
      ]
    }
  ],
  "metadata": {
    "colab": {
      "provenance": [],
      "collapsed_sections": []
    },
    "kernelspec": {
      "display_name": "Python 3",
      "language": "python",
      "name": "python3"
    },
    "language_info": {
      "codemirror_mode": {
        "name": "ipython",
        "version": 3
      },
      "file_extension": ".py",
      "mimetype": "text/x-python",
      "name": "python",
      "nbconvert_exporter": "python",
      "pygments_lexer": "ipython3",
      "version": "3.8.8"
    }
  },
  "nbformat": 4,
  "nbformat_minor": 5
}
