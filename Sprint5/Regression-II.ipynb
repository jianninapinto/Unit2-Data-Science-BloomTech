{
  "cells": [
    {
      "cell_type": "markdown",
      "metadata": {
        "id": "lZIQhqJ_fMxZ"
      },
      "source": [
        "BloomTech Data Science\n",
        "\n",
        "*Unit 2, Sprint 1, Module 2*\n",
        "\n",
        "---"
      ]
    },
    {
      "cell_type": "code",
      "execution_count": null,
      "metadata": {
        "id": "gsGxPOBEfMxc"
      },
      "outputs": [],
      "source": [
        "%%capture\n",
        "import sys\n",
        "\n",
        "# If you're on Colab:\n",
        "if 'google.colab' in sys.modules:\n",
        "    DATA_PATH = 'https://raw.githubusercontent.com/LambdaSchool/DS-Unit-2-Applied-Modeling/master/data/'\n",
        "\n",
        "# If you're working locally:\n",
        "else:\n",
        "    DATA_PATH = '../data/'"
      ]
    },
    {
      "cell_type": "markdown",
      "metadata": {
        "id": "3Ss2o1FDfMxe"
      },
      "source": [
        "# Module Project: Regression II\n",
        "\n",
        "In this project, you'll continue working with the New York City rent dataset you used in the last module project.\n",
        "\n",
        "## Directions\n",
        "\n",
        "The tasks for this project are as follows:\n",
        "\n",
        "- **Task 1:** Import `csv` file using `wrangle` function.\n",
        "- **Task 2:** Conduct exploratory data analysis (EDA), and modify `wrangle` function to engineer two new features.\n",
        "- **Task 3:** Split data into feature matrix `X` and target vector `y`.\n",
        "- **Task 4:** Split feature matrix `X` and target vector `y` into training and test sets.\n",
        "- **Task 5:** Establish the baseline mean absolute error for your dataset.\n",
        "- **Task 6:** Build and train a `Linearregression` model.\n",
        "- **Task 7:** Calculate the training and test mean absolute error for your model.\n",
        "- **Task 8:** Calculate the training and test $R^2$ score for your model.\n",
        "- **Stretch Goal:** Determine the three most important features for your linear regression model.\n",
        "\n",
        "**Note**\n",
        "\n",
        "You should limit yourself to the following libraries for this project:\n",
        "\n",
        "- `matplotlib`\n",
        "- `numpy`\n",
        "- `pandas`\n",
        "- `sklearn`"
      ]
    },
    {
      "cell_type": "markdown",
      "metadata": {
        "id": "mr6J6igMfMxf"
      },
      "source": [
        "# I. Wrangle Data"
      ]
    },
    {
      "cell_type": "code",
      "source": [
        "# Import libraries\n",
        "import matplotlib.pyplot as plt\n",
        "import numpy as np\n",
        "import pandas as pd\n",
        "from sklearn.linear_model import LinearRegression\n",
        "from sklearn.metrics import mean_absolute_error, mean_squared_error, r2_score\n",
        "from sklearn.model_selection import train_test_split"
      ],
      "metadata": {
        "id": "TrnM4hV1ftLQ"
      },
      "execution_count": null,
      "outputs": []
    },
    {
      "cell_type": "code",
      "execution_count": null,
      "metadata": {
        "id": "k_vPLTcwfMxf"
      },
      "outputs": [],
      "source": [
        "def wrangle(filepath):\n",
        "    df = pd.read_csv(filepath,\n",
        "                     parse_dates=['created'], # Parse column as a DateTime object\n",
        "                     index_col= ['created']) # Set object as the index of the DataFrame\n",
        "    \n",
        "    # Remove the most extreme 1% prices,\n",
        "    # the most extreme .1% latitudes, &\n",
        "    # the most extreme .1% longitudes\n",
        "    df = df[(df['price'] >= np.percentile(df['price'], 0.5)) & \n",
        "            (df['price'] <= np.percentile(df['price'], 99.5)) & \n",
        "            (df['latitude'] >= np.percentile(df['latitude'], 0.05)) & \n",
        "            (df['latitude'] < np.percentile(df['latitude'], 99.95)) &\n",
        "            (df['longitude'] >= np.percentile(df['longitude'], 0.05)) & \n",
        "            (df['longitude'] <= np.percentile(df['longitude'], 99.95))]\n",
        "\n",
        "    # Drop rows with NaN values\n",
        "    df.dropna(inplace=True)\n",
        "\n",
        "    # Engineer features\n",
        "    # Add column length of description\n",
        "    df['desc_len']= df['description'].str.len()\n",
        "    # Add column total number of rooms (beds & baths)\n",
        "    df['total_rooms']= df['bedrooms'] + df['bathrooms']\n",
        "    # Add column cats_dogs \n",
        "    df['cats_dogs'] = (df['cats_allowed'] + df['dogs_allowed'] == 2).astype(int)\n",
        "    \n",
        "    return df.sort_index()\n",
        "\n",
        "filepath = DATA_PATH + 'apartments/renthop-nyc.csv'"
      ]
    },
    {
      "cell_type": "markdown",
      "metadata": {
        "id": "vjn-etS0fMxg"
      },
      "source": [
        "**Task 1:** Add the following functionality to the above `wrangle` function.\n",
        "\n",
        "- The `'created'` column will be parsed as a `DateTime` object and set as the `index` of the DataFrame. \n",
        "- Rows with `NaN` values will be dropped.\n",
        "\n",
        "Then use your modified function to import the `renthop-nyc.csv` file into a DataFrame named `df`."
      ]
    },
    {
      "cell_type": "code",
      "execution_count": null,
      "metadata": {
        "id": "t2LoUDs3fMxg"
      },
      "outputs": [],
      "source": [
        "df = wrangle(filepath)"
      ]
    },
    {
      "cell_type": "markdown",
      "metadata": {
        "id": "YkPOPbMQfMxh"
      },
      "source": [
        "**Task 2:** Using your `pandas` and dataviz skills decide on two features that you want to engineer for your dataset. Next, modify your `wrangle` function to add those features. \n",
        "\n",
        "**Note:** You can learn more about feature engineering [here](https://en.wikipedia.org/wiki/Feature_engineering). Here are some ideas for new features:\n",
        "\n",
        "- Does the apartment have a description?\n",
        "- Length of description.\n",
        "- Total number of perks that apartment has.\n",
        "- Are cats _or_ dogs allowed?\n",
        "- Are cats _and_ dogs allowed?\n",
        "- Total number of rooms (beds + baths)."
      ]
    },
    {
      "cell_type": "code",
      "execution_count": null,
      "metadata": {
        "id": "hCgz8dxyfMxh",
        "colab": {
          "base_uri": "https://localhost:8080/",
          "height": 852
        },
        "outputId": "c9e8d392-5147-416b-a074-11dfae3c72e2"
      },
      "outputs": [
        {
          "output_type": "stream",
          "name": "stdout",
          "text": [
            "(47260, 36)\n"
          ]
        },
        {
          "output_type": "execute_result",
          "data": {
            "text/plain": [
              "                     bathrooms  bedrooms  \\\n",
              "created                                    \n",
              "2016-04-01 22:12:41        1.0         1   \n",
              "2016-04-01 22:56:00        1.0         0   \n",
              "2016-04-01 22:57:15        2.0         3   \n",
              "2016-04-01 23:26:07        1.0         1   \n",
              "2016-04-02 00:48:13        1.0         1   \n",
              "2016-04-02 01:11:13        1.0         1   \n",
              "2016-04-02 01:11:30        1.0         2   \n",
              "2016-04-02 01:11:31        1.0         1   \n",
              "2016-04-02 01:11:34        1.0         1   \n",
              "2016-04-02 01:11:40        1.0         2   \n",
              "\n",
              "                                                           description  \\\n",
              "created                                                                  \n",
              "2016-04-01 22:12:41  X-LARGE Flex 1BR Loft! ~~ PRIME Greenwich Vill...   \n",
              "2016-04-01 22:56:00  This Enormous Studio Features: Harwood Floors,...   \n",
              "2016-04-01 22:57:15  --- East 31st St & Lexington Avenue --- This S...   \n",
              "2016-04-01 23:26:07  Reduced Fee!! Priced To Rent!\\rLarge Newly Upd...   \n",
              "2016-04-02 00:48:13  Phenomenal deal of the century!! This spacious...   \n",
              "2016-04-02 01:11:13  Just in time for enjoying Spring/Summer, this ...   \n",
              "2016-04-02 01:11:30  photos coming soon...............................   \n",
              "2016-04-02 01:11:31  NO FEE Recently renovated, the oversized apart...   \n",
              "2016-04-02 01:11:34  This is a steal in the heart of East Village!!...   \n",
              "2016-04-02 01:11:40  Fantastic two bedroom apartment in PRIME Inwoo...   \n",
              "\n",
              "                                     display_address  latitude  longitude  \\\n",
              "created                                                                     \n",
              "2016-04-01 22:12:41                      Astor Place   40.7302   -73.9924   \n",
              "2016-04-01 22:56:00                 East 54th Street   40.7576   -73.9677   \n",
              "2016-04-01 22:57:15  East 31st St & Lexington Avenue   40.7388   -73.9851   \n",
              "2016-04-01 23:26:07                     West End Ave   40.7939   -73.9738   \n",
              "2016-04-02 00:48:13                    E 88th street   40.7784   -73.9491   \n",
              "2016-04-02 01:11:13                     Rector Place   40.7091   -74.0182   \n",
              "2016-04-02 01:11:30                 East 21st Street   40.7366   -73.9826   \n",
              "2016-04-02 01:11:31                     First Avenue   40.7318   -73.9822   \n",
              "2016-04-02 01:11:34                 East 12th Street   40.7314   -73.9864   \n",
              "2016-04-02 01:11:40                    Seaman Avenue   40.8689   -73.9225   \n",
              "\n",
              "                     price        street_address interest_level  elevator  \\\n",
              "created                                                                     \n",
              "2016-04-01 22:12:41   3195         1 Astor Place           high         1   \n",
              "2016-04-01 22:56:00   2000  230 East 54th Street         medium         0   \n",
              "2016-04-01 22:57:15   5850  105 Lexington Avenue           high         1   \n",
              "2016-04-01 23:26:07   2745      700 West End Ave         medium         1   \n",
              "2016-04-02 00:48:13   2400     401 E 88th street         medium         1   \n",
              "2016-04-02 01:11:13   3650      380 Rector Place            low         0   \n",
              "2016-04-02 01:11:30   3150  240 East 21st Street            low         0   \n",
              "2016-04-02 01:11:31   3325      252 First Avenue            low         0   \n",
              "2016-04-02 01:11:34   2795  233 East 12th Street            low         0   \n",
              "2016-04-02 01:11:40   2400     145 Seaman Avenue            low         0   \n",
              "\n",
              "                     ...  new_construction  terrace  exclusive  loft  \\\n",
              "created              ...                                               \n",
              "2016-04-01 22:12:41  ...                 0        0          0     0   \n",
              "2016-04-01 22:56:00  ...                 0        0          0     0   \n",
              "2016-04-01 22:57:15  ...                 0        0          0     0   \n",
              "2016-04-01 23:26:07  ...                 0        0          0     0   \n",
              "2016-04-02 00:48:13  ...                 0        0          0     0   \n",
              "2016-04-02 01:11:13  ...                 0        0          0     0   \n",
              "2016-04-02 01:11:30  ...                 0        0          0     0   \n",
              "2016-04-02 01:11:31  ...                 0        0          0     0   \n",
              "2016-04-02 01:11:34  ...                 0        0          0     0   \n",
              "2016-04-02 01:11:40  ...                 0        0          0     0   \n",
              "\n",
              "                     garden_patio  wheelchair_access  common_outdoor_space  \\\n",
              "created                                                                      \n",
              "2016-04-01 22:12:41             0                  0                     0   \n",
              "2016-04-01 22:56:00             0                  0                     0   \n",
              "2016-04-01 22:57:15             0                  0                     1   \n",
              "2016-04-01 23:26:07             0                  0                     1   \n",
              "2016-04-02 00:48:13             0                  0                     0   \n",
              "2016-04-02 01:11:13             0                  0                     0   \n",
              "2016-04-02 01:11:30             0                  0                     0   \n",
              "2016-04-02 01:11:31             0                  0                     0   \n",
              "2016-04-02 01:11:34             0                  0                     0   \n",
              "2016-04-02 01:11:40             0                  0                     0   \n",
              "\n",
              "                     desc_len  total_rooms  cats_dogs  \n",
              "created                                                \n",
              "2016-04-01 22:12:41        94          2.0          0  \n",
              "2016-04-01 22:56:00       357          1.0          1  \n",
              "2016-04-01 22:57:15       411          5.0          1  \n",
              "2016-04-01 23:26:07       816          2.0          1  \n",
              "2016-04-02 00:48:13       536          2.0          1  \n",
              "2016-04-02 01:11:13       809          2.0          1  \n",
              "2016-04-02 01:11:30        94          3.0          1  \n",
              "2016-04-02 01:11:31       432          2.0          1  \n",
              "2016-04-02 01:11:34       384          2.0          1  \n",
              "2016-04-02 01:11:40       189          3.0          0  \n",
              "\n",
              "[10 rows x 36 columns]"
            ],
            "text/html": [
              "\n",
              "  <div id=\"df-2c94f581-5cfd-4e16-988b-13faa1f5a8b1\">\n",
              "    <div class=\"colab-df-container\">\n",
              "      <div>\n",
              "<style scoped>\n",
              "    .dataframe tbody tr th:only-of-type {\n",
              "        vertical-align: middle;\n",
              "    }\n",
              "\n",
              "    .dataframe tbody tr th {\n",
              "        vertical-align: top;\n",
              "    }\n",
              "\n",
              "    .dataframe thead th {\n",
              "        text-align: right;\n",
              "    }\n",
              "</style>\n",
              "<table border=\"1\" class=\"dataframe\">\n",
              "  <thead>\n",
              "    <tr style=\"text-align: right;\">\n",
              "      <th></th>\n",
              "      <th>bathrooms</th>\n",
              "      <th>bedrooms</th>\n",
              "      <th>description</th>\n",
              "      <th>display_address</th>\n",
              "      <th>latitude</th>\n",
              "      <th>longitude</th>\n",
              "      <th>price</th>\n",
              "      <th>street_address</th>\n",
              "      <th>interest_level</th>\n",
              "      <th>elevator</th>\n",
              "      <th>...</th>\n",
              "      <th>new_construction</th>\n",
              "      <th>terrace</th>\n",
              "      <th>exclusive</th>\n",
              "      <th>loft</th>\n",
              "      <th>garden_patio</th>\n",
              "      <th>wheelchair_access</th>\n",
              "      <th>common_outdoor_space</th>\n",
              "      <th>desc_len</th>\n",
              "      <th>total_rooms</th>\n",
              "      <th>cats_dogs</th>\n",
              "    </tr>\n",
              "    <tr>\n",
              "      <th>created</th>\n",
              "      <th></th>\n",
              "      <th></th>\n",
              "      <th></th>\n",
              "      <th></th>\n",
              "      <th></th>\n",
              "      <th></th>\n",
              "      <th></th>\n",
              "      <th></th>\n",
              "      <th></th>\n",
              "      <th></th>\n",
              "      <th></th>\n",
              "      <th></th>\n",
              "      <th></th>\n",
              "      <th></th>\n",
              "      <th></th>\n",
              "      <th></th>\n",
              "      <th></th>\n",
              "      <th></th>\n",
              "      <th></th>\n",
              "      <th></th>\n",
              "      <th></th>\n",
              "    </tr>\n",
              "  </thead>\n",
              "  <tbody>\n",
              "    <tr>\n",
              "      <th>2016-04-01 22:12:41</th>\n",
              "      <td>1.0</td>\n",
              "      <td>1</td>\n",
              "      <td>X-LARGE Flex 1BR Loft! ~~ PRIME Greenwich Vill...</td>\n",
              "      <td>Astor Place</td>\n",
              "      <td>40.7302</td>\n",
              "      <td>-73.9924</td>\n",
              "      <td>3195</td>\n",
              "      <td>1 Astor Place</td>\n",
              "      <td>high</td>\n",
              "      <td>1</td>\n",
              "      <td>...</td>\n",
              "      <td>0</td>\n",
              "      <td>0</td>\n",
              "      <td>0</td>\n",
              "      <td>0</td>\n",
              "      <td>0</td>\n",
              "      <td>0</td>\n",
              "      <td>0</td>\n",
              "      <td>94</td>\n",
              "      <td>2.0</td>\n",
              "      <td>0</td>\n",
              "    </tr>\n",
              "    <tr>\n",
              "      <th>2016-04-01 22:56:00</th>\n",
              "      <td>1.0</td>\n",
              "      <td>0</td>\n",
              "      <td>This Enormous Studio Features: Harwood Floors,...</td>\n",
              "      <td>East 54th Street</td>\n",
              "      <td>40.7576</td>\n",
              "      <td>-73.9677</td>\n",
              "      <td>2000</td>\n",
              "      <td>230 East 54th Street</td>\n",
              "      <td>medium</td>\n",
              "      <td>0</td>\n",
              "      <td>...</td>\n",
              "      <td>0</td>\n",
              "      <td>0</td>\n",
              "      <td>0</td>\n",
              "      <td>0</td>\n",
              "      <td>0</td>\n",
              "      <td>0</td>\n",
              "      <td>0</td>\n",
              "      <td>357</td>\n",
              "      <td>1.0</td>\n",
              "      <td>1</td>\n",
              "    </tr>\n",
              "    <tr>\n",
              "      <th>2016-04-01 22:57:15</th>\n",
              "      <td>2.0</td>\n",
              "      <td>3</td>\n",
              "      <td>--- East 31st St &amp; Lexington Avenue --- This S...</td>\n",
              "      <td>East 31st St &amp; Lexington Avenue</td>\n",
              "      <td>40.7388</td>\n",
              "      <td>-73.9851</td>\n",
              "      <td>5850</td>\n",
              "      <td>105 Lexington Avenue</td>\n",
              "      <td>high</td>\n",
              "      <td>1</td>\n",
              "      <td>...</td>\n",
              "      <td>0</td>\n",
              "      <td>0</td>\n",
              "      <td>0</td>\n",
              "      <td>0</td>\n",
              "      <td>0</td>\n",
              "      <td>0</td>\n",
              "      <td>1</td>\n",
              "      <td>411</td>\n",
              "      <td>5.0</td>\n",
              "      <td>1</td>\n",
              "    </tr>\n",
              "    <tr>\n",
              "      <th>2016-04-01 23:26:07</th>\n",
              "      <td>1.0</td>\n",
              "      <td>1</td>\n",
              "      <td>Reduced Fee!! Priced To Rent!\\rLarge Newly Upd...</td>\n",
              "      <td>West End Ave</td>\n",
              "      <td>40.7939</td>\n",
              "      <td>-73.9738</td>\n",
              "      <td>2745</td>\n",
              "      <td>700 West End Ave</td>\n",
              "      <td>medium</td>\n",
              "      <td>1</td>\n",
              "      <td>...</td>\n",
              "      <td>0</td>\n",
              "      <td>0</td>\n",
              "      <td>0</td>\n",
              "      <td>0</td>\n",
              "      <td>0</td>\n",
              "      <td>0</td>\n",
              "      <td>1</td>\n",
              "      <td>816</td>\n",
              "      <td>2.0</td>\n",
              "      <td>1</td>\n",
              "    </tr>\n",
              "    <tr>\n",
              "      <th>2016-04-02 00:48:13</th>\n",
              "      <td>1.0</td>\n",
              "      <td>1</td>\n",
              "      <td>Phenomenal deal of the century!! This spacious...</td>\n",
              "      <td>E 88th street</td>\n",
              "      <td>40.7784</td>\n",
              "      <td>-73.9491</td>\n",
              "      <td>2400</td>\n",
              "      <td>401 E 88th street</td>\n",
              "      <td>medium</td>\n",
              "      <td>1</td>\n",
              "      <td>...</td>\n",
              "      <td>0</td>\n",
              "      <td>0</td>\n",
              "      <td>0</td>\n",
              "      <td>0</td>\n",
              "      <td>0</td>\n",
              "      <td>0</td>\n",
              "      <td>0</td>\n",
              "      <td>536</td>\n",
              "      <td>2.0</td>\n",
              "      <td>1</td>\n",
              "    </tr>\n",
              "    <tr>\n",
              "      <th>2016-04-02 01:11:13</th>\n",
              "      <td>1.0</td>\n",
              "      <td>1</td>\n",
              "      <td>Just in time for enjoying Spring/Summer, this ...</td>\n",
              "      <td>Rector Place</td>\n",
              "      <td>40.7091</td>\n",
              "      <td>-74.0182</td>\n",
              "      <td>3650</td>\n",
              "      <td>380 Rector Place</td>\n",
              "      <td>low</td>\n",
              "      <td>0</td>\n",
              "      <td>...</td>\n",
              "      <td>0</td>\n",
              "      <td>0</td>\n",
              "      <td>0</td>\n",
              "      <td>0</td>\n",
              "      <td>0</td>\n",
              "      <td>0</td>\n",
              "      <td>0</td>\n",
              "      <td>809</td>\n",
              "      <td>2.0</td>\n",
              "      <td>1</td>\n",
              "    </tr>\n",
              "    <tr>\n",
              "      <th>2016-04-02 01:11:30</th>\n",
              "      <td>1.0</td>\n",
              "      <td>2</td>\n",
              "      <td>photos coming soon...............................</td>\n",
              "      <td>East 21st Street</td>\n",
              "      <td>40.7366</td>\n",
              "      <td>-73.9826</td>\n",
              "      <td>3150</td>\n",
              "      <td>240 East 21st Street</td>\n",
              "      <td>low</td>\n",
              "      <td>0</td>\n",
              "      <td>...</td>\n",
              "      <td>0</td>\n",
              "      <td>0</td>\n",
              "      <td>0</td>\n",
              "      <td>0</td>\n",
              "      <td>0</td>\n",
              "      <td>0</td>\n",
              "      <td>0</td>\n",
              "      <td>94</td>\n",
              "      <td>3.0</td>\n",
              "      <td>1</td>\n",
              "    </tr>\n",
              "    <tr>\n",
              "      <th>2016-04-02 01:11:31</th>\n",
              "      <td>1.0</td>\n",
              "      <td>1</td>\n",
              "      <td>NO FEE Recently renovated, the oversized apart...</td>\n",
              "      <td>First Avenue</td>\n",
              "      <td>40.7318</td>\n",
              "      <td>-73.9822</td>\n",
              "      <td>3325</td>\n",
              "      <td>252 First Avenue</td>\n",
              "      <td>low</td>\n",
              "      <td>0</td>\n",
              "      <td>...</td>\n",
              "      <td>0</td>\n",
              "      <td>0</td>\n",
              "      <td>0</td>\n",
              "      <td>0</td>\n",
              "      <td>0</td>\n",
              "      <td>0</td>\n",
              "      <td>0</td>\n",
              "      <td>432</td>\n",
              "      <td>2.0</td>\n",
              "      <td>1</td>\n",
              "    </tr>\n",
              "    <tr>\n",
              "      <th>2016-04-02 01:11:34</th>\n",
              "      <td>1.0</td>\n",
              "      <td>1</td>\n",
              "      <td>This is a steal in the heart of East Village!!...</td>\n",
              "      <td>East 12th Street</td>\n",
              "      <td>40.7314</td>\n",
              "      <td>-73.9864</td>\n",
              "      <td>2795</td>\n",
              "      <td>233 East 12th Street</td>\n",
              "      <td>low</td>\n",
              "      <td>0</td>\n",
              "      <td>...</td>\n",
              "      <td>0</td>\n",
              "      <td>0</td>\n",
              "      <td>0</td>\n",
              "      <td>0</td>\n",
              "      <td>0</td>\n",
              "      <td>0</td>\n",
              "      <td>0</td>\n",
              "      <td>384</td>\n",
              "      <td>2.0</td>\n",
              "      <td>1</td>\n",
              "    </tr>\n",
              "    <tr>\n",
              "      <th>2016-04-02 01:11:40</th>\n",
              "      <td>1.0</td>\n",
              "      <td>2</td>\n",
              "      <td>Fantastic two bedroom apartment in PRIME Inwoo...</td>\n",
              "      <td>Seaman Avenue</td>\n",
              "      <td>40.8689</td>\n",
              "      <td>-73.9225</td>\n",
              "      <td>2400</td>\n",
              "      <td>145 Seaman Avenue</td>\n",
              "      <td>low</td>\n",
              "      <td>0</td>\n",
              "      <td>...</td>\n",
              "      <td>0</td>\n",
              "      <td>0</td>\n",
              "      <td>0</td>\n",
              "      <td>0</td>\n",
              "      <td>0</td>\n",
              "      <td>0</td>\n",
              "      <td>0</td>\n",
              "      <td>189</td>\n",
              "      <td>3.0</td>\n",
              "      <td>0</td>\n",
              "    </tr>\n",
              "  </tbody>\n",
              "</table>\n",
              "<p>10 rows × 36 columns</p>\n",
              "</div>\n",
              "      <button class=\"colab-df-convert\" onclick=\"convertToInteractive('df-2c94f581-5cfd-4e16-988b-13faa1f5a8b1')\"\n",
              "              title=\"Convert this dataframe to an interactive table.\"\n",
              "              style=\"display:none;\">\n",
              "        \n",
              "  <svg xmlns=\"http://www.w3.org/2000/svg\" height=\"24px\"viewBox=\"0 0 24 24\"\n",
              "       width=\"24px\">\n",
              "    <path d=\"M0 0h24v24H0V0z\" fill=\"none\"/>\n",
              "    <path d=\"M18.56 5.44l.94 2.06.94-2.06 2.06-.94-2.06-.94-.94-2.06-.94 2.06-2.06.94zm-11 1L8.5 8.5l.94-2.06 2.06-.94-2.06-.94L8.5 2.5l-.94 2.06-2.06.94zm10 10l.94 2.06.94-2.06 2.06-.94-2.06-.94-.94-2.06-.94 2.06-2.06.94z\"/><path d=\"M17.41 7.96l-1.37-1.37c-.4-.4-.92-.59-1.43-.59-.52 0-1.04.2-1.43.59L10.3 9.45l-7.72 7.72c-.78.78-.78 2.05 0 2.83L4 21.41c.39.39.9.59 1.41.59.51 0 1.02-.2 1.41-.59l7.78-7.78 2.81-2.81c.8-.78.8-2.07 0-2.86zM5.41 20L4 18.59l7.72-7.72 1.47 1.35L5.41 20z\"/>\n",
              "  </svg>\n",
              "      </button>\n",
              "      \n",
              "  <style>\n",
              "    .colab-df-container {\n",
              "      display:flex;\n",
              "      flex-wrap:wrap;\n",
              "      gap: 12px;\n",
              "    }\n",
              "\n",
              "    .colab-df-convert {\n",
              "      background-color: #E8F0FE;\n",
              "      border: none;\n",
              "      border-radius: 50%;\n",
              "      cursor: pointer;\n",
              "      display: none;\n",
              "      fill: #1967D2;\n",
              "      height: 32px;\n",
              "      padding: 0 0 0 0;\n",
              "      width: 32px;\n",
              "    }\n",
              "\n",
              "    .colab-df-convert:hover {\n",
              "      background-color: #E2EBFA;\n",
              "      box-shadow: 0px 1px 2px rgba(60, 64, 67, 0.3), 0px 1px 3px 1px rgba(60, 64, 67, 0.15);\n",
              "      fill: #174EA6;\n",
              "    }\n",
              "\n",
              "    [theme=dark] .colab-df-convert {\n",
              "      background-color: #3B4455;\n",
              "      fill: #D2E3FC;\n",
              "    }\n",
              "\n",
              "    [theme=dark] .colab-df-convert:hover {\n",
              "      background-color: #434B5C;\n",
              "      box-shadow: 0px 1px 3px 1px rgba(0, 0, 0, 0.15);\n",
              "      filter: drop-shadow(0px 1px 2px rgba(0, 0, 0, 0.3));\n",
              "      fill: #FFFFFF;\n",
              "    }\n",
              "  </style>\n",
              "\n",
              "      <script>\n",
              "        const buttonEl =\n",
              "          document.querySelector('#df-2c94f581-5cfd-4e16-988b-13faa1f5a8b1 button.colab-df-convert');\n",
              "        buttonEl.style.display =\n",
              "          google.colab.kernel.accessAllowed ? 'block' : 'none';\n",
              "\n",
              "        async function convertToInteractive(key) {\n",
              "          const element = document.querySelector('#df-2c94f581-5cfd-4e16-988b-13faa1f5a8b1');\n",
              "          const dataTable =\n",
              "            await google.colab.kernel.invokeFunction('convertToInteractive',\n",
              "                                                     [key], {});\n",
              "          if (!dataTable) return;\n",
              "\n",
              "          const docLinkHtml = 'Like what you see? Visit the ' +\n",
              "            '<a target=\"_blank\" href=https://colab.research.google.com/notebooks/data_table.ipynb>data table notebook</a>'\n",
              "            + ' to learn more about interactive tables.';\n",
              "          element.innerHTML = '';\n",
              "          dataTable['output_type'] = 'display_data';\n",
              "          await google.colab.output.renderOutput(dataTable, element);\n",
              "          const docLink = document.createElement('div');\n",
              "          docLink.innerHTML = docLinkHtml;\n",
              "          element.appendChild(docLink);\n",
              "        }\n",
              "      </script>\n",
              "    </div>\n",
              "  </div>\n",
              "  "
            ]
          },
          "metadata": {},
          "execution_count": 12
        }
      ],
      "source": [
        "# Conduct your exploratory data analysis here, \n",
        "# and then modify the function above.\n",
        "\n",
        "# Check shape of the data set\n",
        "print(df.shape)\n",
        "\n",
        "# Display the first 10 columns\n",
        "df.head(10)"
      ]
    },
    {
      "cell_type": "code",
      "source": [
        "# Check for null values\n",
        "df.isnull().sum().sum()"
      ],
      "metadata": {
        "colab": {
          "base_uri": "https://localhost:8080/"
        },
        "id": "NWtc5MPEmrRA",
        "outputId": "060ba5dc-6a43-4927-b8ec-26d634acf72d"
      },
      "execution_count": null,
      "outputs": [
        {
          "output_type": "execute_result",
          "data": {
            "text/plain": [
              "0"
            ]
          },
          "metadata": {},
          "execution_count": 14
        }
      ]
    },
    {
      "cell_type": "code",
      "source": [
        "# Summary stats for numerical variables\n",
        "df.describe()"
      ],
      "metadata": {
        "colab": {
          "base_uri": "https://localhost:8080/",
          "height": 394
        },
        "id": "7dHNCGyjo_YD",
        "outputId": "0227657a-eafd-4652-fb2e-ca52c54a0ce3"
      },
      "execution_count": null,
      "outputs": [
        {
          "output_type": "execute_result",
          "data": {
            "text/plain": [
              "          bathrooms      bedrooms      latitude     longitude         price  \\\n",
              "count  47260.000000  47260.000000  47260.000000  47260.000000  47260.000000   \n",
              "mean       1.203364      1.544012     40.750689    -73.972736   3578.041536   \n",
              "std        0.472804      1.108318      0.038839      0.028964   1765.210584   \n",
              "min        0.000000      0.000000     40.575700    -74.087300   1375.000000   \n",
              "25%        1.000000      1.000000     40.728200    -73.991800   2500.000000   \n",
              "50%        1.000000      1.000000     40.751600    -73.978000   3150.000000   \n",
              "75%        1.000000      2.000000     40.773900    -73.955000   4095.000000   \n",
              "max       10.000000      8.000000     40.989400    -73.700100  15500.000000   \n",
              "\n",
              "           elevator  cats_allowed  hardwood_floors  dogs_allowed  \\\n",
              "count  47260.000000  47260.000000     47260.000000  47260.000000   \n",
              "mean       0.521075      0.474884         0.492044      0.443377   \n",
              "std        0.499561      0.499374         0.499942      0.496789   \n",
              "min        0.000000      0.000000         0.000000      0.000000   \n",
              "25%        0.000000      0.000000         0.000000      0.000000   \n",
              "50%        1.000000      0.000000         0.000000      0.000000   \n",
              "75%        1.000000      1.000000         1.000000      1.000000   \n",
              "max        1.000000      1.000000         1.000000      1.000000   \n",
              "\n",
              "            doorman  ...  new_construction      terrace     exclusive  \\\n",
              "count  47260.000000  ...      47260.000000  47260.00000  47260.000000   \n",
              "mean       0.426153  ...          0.053618      0.04744      0.032628   \n",
              "std        0.494522  ...          0.225265      0.21258      0.177663   \n",
              "min        0.000000  ...          0.000000      0.00000      0.000000   \n",
              "25%        0.000000  ...          0.000000      0.00000      0.000000   \n",
              "50%        0.000000  ...          0.000000      0.00000      0.000000   \n",
              "75%        1.000000  ...          0.000000      0.00000      0.000000   \n",
              "max        1.000000  ...          1.000000      1.00000      1.000000   \n",
              "\n",
              "               loft  garden_patio  wheelchair_access  common_outdoor_space  \\\n",
              "count  47260.000000  47260.000000       47260.000000          47260.000000   \n",
              "mean       0.044033      0.040626           0.028121              0.026280   \n",
              "std        0.205171      0.197425           0.165320              0.159969   \n",
              "min        0.000000      0.000000           0.000000              0.000000   \n",
              "25%        0.000000      0.000000           0.000000              0.000000   \n",
              "50%        0.000000      0.000000           0.000000              0.000000   \n",
              "75%        0.000000      0.000000           0.000000              0.000000   \n",
              "max        1.000000      1.000000           1.000000              1.000000   \n",
              "\n",
              "           desc_len   total_rooms     cats_dogs  \n",
              "count  47260.000000  47260.000000  47260.000000  \n",
              "mean     620.265023      2.747376      0.442742  \n",
              "std      383.555995      1.414901      0.496716  \n",
              "min        1.000000      0.000000      0.000000  \n",
              "25%      360.000000      2.000000      0.000000  \n",
              "50%      575.000000      2.000000      0.000000  \n",
              "75%      819.000000      4.000000      1.000000  \n",
              "max     4466.000000     12.000000      1.000000  \n",
              "\n",
              "[8 rows x 32 columns]"
            ],
            "text/html": [
              "\n",
              "  <div id=\"df-85ce2411-8175-47f1-b8f2-7fda2e65b96a\">\n",
              "    <div class=\"colab-df-container\">\n",
              "      <div>\n",
              "<style scoped>\n",
              "    .dataframe tbody tr th:only-of-type {\n",
              "        vertical-align: middle;\n",
              "    }\n",
              "\n",
              "    .dataframe tbody tr th {\n",
              "        vertical-align: top;\n",
              "    }\n",
              "\n",
              "    .dataframe thead th {\n",
              "        text-align: right;\n",
              "    }\n",
              "</style>\n",
              "<table border=\"1\" class=\"dataframe\">\n",
              "  <thead>\n",
              "    <tr style=\"text-align: right;\">\n",
              "      <th></th>\n",
              "      <th>bathrooms</th>\n",
              "      <th>bedrooms</th>\n",
              "      <th>latitude</th>\n",
              "      <th>longitude</th>\n",
              "      <th>price</th>\n",
              "      <th>elevator</th>\n",
              "      <th>cats_allowed</th>\n",
              "      <th>hardwood_floors</th>\n",
              "      <th>dogs_allowed</th>\n",
              "      <th>doorman</th>\n",
              "      <th>...</th>\n",
              "      <th>new_construction</th>\n",
              "      <th>terrace</th>\n",
              "      <th>exclusive</th>\n",
              "      <th>loft</th>\n",
              "      <th>garden_patio</th>\n",
              "      <th>wheelchair_access</th>\n",
              "      <th>common_outdoor_space</th>\n",
              "      <th>desc_len</th>\n",
              "      <th>total_rooms</th>\n",
              "      <th>cats_dogs</th>\n",
              "    </tr>\n",
              "  </thead>\n",
              "  <tbody>\n",
              "    <tr>\n",
              "      <th>count</th>\n",
              "      <td>47260.000000</td>\n",
              "      <td>47260.000000</td>\n",
              "      <td>47260.000000</td>\n",
              "      <td>47260.000000</td>\n",
              "      <td>47260.000000</td>\n",
              "      <td>47260.000000</td>\n",
              "      <td>47260.000000</td>\n",
              "      <td>47260.000000</td>\n",
              "      <td>47260.000000</td>\n",
              "      <td>47260.000000</td>\n",
              "      <td>...</td>\n",
              "      <td>47260.000000</td>\n",
              "      <td>47260.00000</td>\n",
              "      <td>47260.000000</td>\n",
              "      <td>47260.000000</td>\n",
              "      <td>47260.000000</td>\n",
              "      <td>47260.000000</td>\n",
              "      <td>47260.000000</td>\n",
              "      <td>47260.000000</td>\n",
              "      <td>47260.000000</td>\n",
              "      <td>47260.000000</td>\n",
              "    </tr>\n",
              "    <tr>\n",
              "      <th>mean</th>\n",
              "      <td>1.203364</td>\n",
              "      <td>1.544012</td>\n",
              "      <td>40.750689</td>\n",
              "      <td>-73.972736</td>\n",
              "      <td>3578.041536</td>\n",
              "      <td>0.521075</td>\n",
              "      <td>0.474884</td>\n",
              "      <td>0.492044</td>\n",
              "      <td>0.443377</td>\n",
              "      <td>0.426153</td>\n",
              "      <td>...</td>\n",
              "      <td>0.053618</td>\n",
              "      <td>0.04744</td>\n",
              "      <td>0.032628</td>\n",
              "      <td>0.044033</td>\n",
              "      <td>0.040626</td>\n",
              "      <td>0.028121</td>\n",
              "      <td>0.026280</td>\n",
              "      <td>620.265023</td>\n",
              "      <td>2.747376</td>\n",
              "      <td>0.442742</td>\n",
              "    </tr>\n",
              "    <tr>\n",
              "      <th>std</th>\n",
              "      <td>0.472804</td>\n",
              "      <td>1.108318</td>\n",
              "      <td>0.038839</td>\n",
              "      <td>0.028964</td>\n",
              "      <td>1765.210584</td>\n",
              "      <td>0.499561</td>\n",
              "      <td>0.499374</td>\n",
              "      <td>0.499942</td>\n",
              "      <td>0.496789</td>\n",
              "      <td>0.494522</td>\n",
              "      <td>...</td>\n",
              "      <td>0.225265</td>\n",
              "      <td>0.21258</td>\n",
              "      <td>0.177663</td>\n",
              "      <td>0.205171</td>\n",
              "      <td>0.197425</td>\n",
              "      <td>0.165320</td>\n",
              "      <td>0.159969</td>\n",
              "      <td>383.555995</td>\n",
              "      <td>1.414901</td>\n",
              "      <td>0.496716</td>\n",
              "    </tr>\n",
              "    <tr>\n",
              "      <th>min</th>\n",
              "      <td>0.000000</td>\n",
              "      <td>0.000000</td>\n",
              "      <td>40.575700</td>\n",
              "      <td>-74.087300</td>\n",
              "      <td>1375.000000</td>\n",
              "      <td>0.000000</td>\n",
              "      <td>0.000000</td>\n",
              "      <td>0.000000</td>\n",
              "      <td>0.000000</td>\n",
              "      <td>0.000000</td>\n",
              "      <td>...</td>\n",
              "      <td>0.000000</td>\n",
              "      <td>0.00000</td>\n",
              "      <td>0.000000</td>\n",
              "      <td>0.000000</td>\n",
              "      <td>0.000000</td>\n",
              "      <td>0.000000</td>\n",
              "      <td>0.000000</td>\n",
              "      <td>1.000000</td>\n",
              "      <td>0.000000</td>\n",
              "      <td>0.000000</td>\n",
              "    </tr>\n",
              "    <tr>\n",
              "      <th>25%</th>\n",
              "      <td>1.000000</td>\n",
              "      <td>1.000000</td>\n",
              "      <td>40.728200</td>\n",
              "      <td>-73.991800</td>\n",
              "      <td>2500.000000</td>\n",
              "      <td>0.000000</td>\n",
              "      <td>0.000000</td>\n",
              "      <td>0.000000</td>\n",
              "      <td>0.000000</td>\n",
              "      <td>0.000000</td>\n",
              "      <td>...</td>\n",
              "      <td>0.000000</td>\n",
              "      <td>0.00000</td>\n",
              "      <td>0.000000</td>\n",
              "      <td>0.000000</td>\n",
              "      <td>0.000000</td>\n",
              "      <td>0.000000</td>\n",
              "      <td>0.000000</td>\n",
              "      <td>360.000000</td>\n",
              "      <td>2.000000</td>\n",
              "      <td>0.000000</td>\n",
              "    </tr>\n",
              "    <tr>\n",
              "      <th>50%</th>\n",
              "      <td>1.000000</td>\n",
              "      <td>1.000000</td>\n",
              "      <td>40.751600</td>\n",
              "      <td>-73.978000</td>\n",
              "      <td>3150.000000</td>\n",
              "      <td>1.000000</td>\n",
              "      <td>0.000000</td>\n",
              "      <td>0.000000</td>\n",
              "      <td>0.000000</td>\n",
              "      <td>0.000000</td>\n",
              "      <td>...</td>\n",
              "      <td>0.000000</td>\n",
              "      <td>0.00000</td>\n",
              "      <td>0.000000</td>\n",
              "      <td>0.000000</td>\n",
              "      <td>0.000000</td>\n",
              "      <td>0.000000</td>\n",
              "      <td>0.000000</td>\n",
              "      <td>575.000000</td>\n",
              "      <td>2.000000</td>\n",
              "      <td>0.000000</td>\n",
              "    </tr>\n",
              "    <tr>\n",
              "      <th>75%</th>\n",
              "      <td>1.000000</td>\n",
              "      <td>2.000000</td>\n",
              "      <td>40.773900</td>\n",
              "      <td>-73.955000</td>\n",
              "      <td>4095.000000</td>\n",
              "      <td>1.000000</td>\n",
              "      <td>1.000000</td>\n",
              "      <td>1.000000</td>\n",
              "      <td>1.000000</td>\n",
              "      <td>1.000000</td>\n",
              "      <td>...</td>\n",
              "      <td>0.000000</td>\n",
              "      <td>0.00000</td>\n",
              "      <td>0.000000</td>\n",
              "      <td>0.000000</td>\n",
              "      <td>0.000000</td>\n",
              "      <td>0.000000</td>\n",
              "      <td>0.000000</td>\n",
              "      <td>819.000000</td>\n",
              "      <td>4.000000</td>\n",
              "      <td>1.000000</td>\n",
              "    </tr>\n",
              "    <tr>\n",
              "      <th>max</th>\n",
              "      <td>10.000000</td>\n",
              "      <td>8.000000</td>\n",
              "      <td>40.989400</td>\n",
              "      <td>-73.700100</td>\n",
              "      <td>15500.000000</td>\n",
              "      <td>1.000000</td>\n",
              "      <td>1.000000</td>\n",
              "      <td>1.000000</td>\n",
              "      <td>1.000000</td>\n",
              "      <td>1.000000</td>\n",
              "      <td>...</td>\n",
              "      <td>1.000000</td>\n",
              "      <td>1.00000</td>\n",
              "      <td>1.000000</td>\n",
              "      <td>1.000000</td>\n",
              "      <td>1.000000</td>\n",
              "      <td>1.000000</td>\n",
              "      <td>1.000000</td>\n",
              "      <td>4466.000000</td>\n",
              "      <td>12.000000</td>\n",
              "      <td>1.000000</td>\n",
              "    </tr>\n",
              "  </tbody>\n",
              "</table>\n",
              "<p>8 rows × 32 columns</p>\n",
              "</div>\n",
              "      <button class=\"colab-df-convert\" onclick=\"convertToInteractive('df-85ce2411-8175-47f1-b8f2-7fda2e65b96a')\"\n",
              "              title=\"Convert this dataframe to an interactive table.\"\n",
              "              style=\"display:none;\">\n",
              "        \n",
              "  <svg xmlns=\"http://www.w3.org/2000/svg\" height=\"24px\"viewBox=\"0 0 24 24\"\n",
              "       width=\"24px\">\n",
              "    <path d=\"M0 0h24v24H0V0z\" fill=\"none\"/>\n",
              "    <path d=\"M18.56 5.44l.94 2.06.94-2.06 2.06-.94-2.06-.94-.94-2.06-.94 2.06-2.06.94zm-11 1L8.5 8.5l.94-2.06 2.06-.94-2.06-.94L8.5 2.5l-.94 2.06-2.06.94zm10 10l.94 2.06.94-2.06 2.06-.94-2.06-.94-.94-2.06-.94 2.06-2.06.94z\"/><path d=\"M17.41 7.96l-1.37-1.37c-.4-.4-.92-.59-1.43-.59-.52 0-1.04.2-1.43.59L10.3 9.45l-7.72 7.72c-.78.78-.78 2.05 0 2.83L4 21.41c.39.39.9.59 1.41.59.51 0 1.02-.2 1.41-.59l7.78-7.78 2.81-2.81c.8-.78.8-2.07 0-2.86zM5.41 20L4 18.59l7.72-7.72 1.47 1.35L5.41 20z\"/>\n",
              "  </svg>\n",
              "      </button>\n",
              "      \n",
              "  <style>\n",
              "    .colab-df-container {\n",
              "      display:flex;\n",
              "      flex-wrap:wrap;\n",
              "      gap: 12px;\n",
              "    }\n",
              "\n",
              "    .colab-df-convert {\n",
              "      background-color: #E8F0FE;\n",
              "      border: none;\n",
              "      border-radius: 50%;\n",
              "      cursor: pointer;\n",
              "      display: none;\n",
              "      fill: #1967D2;\n",
              "      height: 32px;\n",
              "      padding: 0 0 0 0;\n",
              "      width: 32px;\n",
              "    }\n",
              "\n",
              "    .colab-df-convert:hover {\n",
              "      background-color: #E2EBFA;\n",
              "      box-shadow: 0px 1px 2px rgba(60, 64, 67, 0.3), 0px 1px 3px 1px rgba(60, 64, 67, 0.15);\n",
              "      fill: #174EA6;\n",
              "    }\n",
              "\n",
              "    [theme=dark] .colab-df-convert {\n",
              "      background-color: #3B4455;\n",
              "      fill: #D2E3FC;\n",
              "    }\n",
              "\n",
              "    [theme=dark] .colab-df-convert:hover {\n",
              "      background-color: #434B5C;\n",
              "      box-shadow: 0px 1px 3px 1px rgba(0, 0, 0, 0.15);\n",
              "      filter: drop-shadow(0px 1px 2px rgba(0, 0, 0, 0.3));\n",
              "      fill: #FFFFFF;\n",
              "    }\n",
              "  </style>\n",
              "\n",
              "      <script>\n",
              "        const buttonEl =\n",
              "          document.querySelector('#df-85ce2411-8175-47f1-b8f2-7fda2e65b96a button.colab-df-convert');\n",
              "        buttonEl.style.display =\n",
              "          google.colab.kernel.accessAllowed ? 'block' : 'none';\n",
              "\n",
              "        async function convertToInteractive(key) {\n",
              "          const element = document.querySelector('#df-85ce2411-8175-47f1-b8f2-7fda2e65b96a');\n",
              "          const dataTable =\n",
              "            await google.colab.kernel.invokeFunction('convertToInteractive',\n",
              "                                                     [key], {});\n",
              "          if (!dataTable) return;\n",
              "\n",
              "          const docLinkHtml = 'Like what you see? Visit the ' +\n",
              "            '<a target=\"_blank\" href=https://colab.research.google.com/notebooks/data_table.ipynb>data table notebook</a>'\n",
              "            + ' to learn more about interactive tables.';\n",
              "          element.innerHTML = '';\n",
              "          dataTable['output_type'] = 'display_data';\n",
              "          await google.colab.output.renderOutput(dataTable, element);\n",
              "          const docLink = document.createElement('div');\n",
              "          docLink.innerHTML = docLinkHtml;\n",
              "          element.appendChild(docLink);\n",
              "        }\n",
              "      </script>\n",
              "    </div>\n",
              "  </div>\n",
              "  "
            ]
          },
          "metadata": {},
          "execution_count": 15
        }
      ]
    },
    {
      "cell_type": "code",
      "source": [
        "# Length of 'description'\n",
        "# df['desc_len']= df['description'].str.len().head() #to capture the length of the string"
      ],
      "metadata": {
        "id": "iDfD4iHLLQ6y"
      },
      "execution_count": null,
      "outputs": []
    },
    {
      "cell_type": "code",
      "source": [
        "# Total number of beds and baths\n",
        "# df['total_rooms']= df['bedrooms'] + df['bathrooms']"
      ],
      "metadata": {
        "id": "-9OgpCuas8XJ"
      },
      "execution_count": null,
      "outputs": []
    },
    {
      "cell_type": "code",
      "source": [
        "df.info()"
      ],
      "metadata": {
        "colab": {
          "base_uri": "https://localhost:8080/"
        },
        "id": "5Rhd6IZQMYq3",
        "outputId": "b0fd1aed-dbce-4c19-9840-40e44cbad134"
      },
      "execution_count": null,
      "outputs": [
        {
          "output_type": "stream",
          "name": "stdout",
          "text": [
            "<class 'pandas.core.frame.DataFrame'>\n",
            "DatetimeIndex: 47260 entries, 2016-04-01 22:12:41 to 2016-06-29 21:41:47\n",
            "Data columns (total 36 columns):\n",
            " #   Column                Non-Null Count  Dtype  \n",
            "---  ------                --------------  -----  \n",
            " 0   bathrooms             47260 non-null  float64\n",
            " 1   bedrooms              47260 non-null  int64  \n",
            " 2   description           47260 non-null  object \n",
            " 3   display_address       47260 non-null  object \n",
            " 4   latitude              47260 non-null  float64\n",
            " 5   longitude             47260 non-null  float64\n",
            " 6   price                 47260 non-null  int64  \n",
            " 7   street_address        47260 non-null  object \n",
            " 8   interest_level        47260 non-null  object \n",
            " 9   elevator              47260 non-null  int64  \n",
            " 10  cats_allowed          47260 non-null  int64  \n",
            " 11  hardwood_floors       47260 non-null  int64  \n",
            " 12  dogs_allowed          47260 non-null  int64  \n",
            " 13  doorman               47260 non-null  int64  \n",
            " 14  dishwasher            47260 non-null  int64  \n",
            " 15  no_fee                47260 non-null  int64  \n",
            " 16  laundry_in_building   47260 non-null  int64  \n",
            " 17  fitness_center        47260 non-null  int64  \n",
            " 18  pre-war               47260 non-null  int64  \n",
            " 19  laundry_in_unit       47260 non-null  int64  \n",
            " 20  roof_deck             47260 non-null  int64  \n",
            " 21  outdoor_space         47260 non-null  int64  \n",
            " 22  dining_room           47260 non-null  int64  \n",
            " 23  high_speed_internet   47260 non-null  int64  \n",
            " 24  balcony               47260 non-null  int64  \n",
            " 25  swimming_pool         47260 non-null  int64  \n",
            " 26  new_construction      47260 non-null  int64  \n",
            " 27  terrace               47260 non-null  int64  \n",
            " 28  exclusive             47260 non-null  int64  \n",
            " 29  loft                  47260 non-null  int64  \n",
            " 30  garden_patio          47260 non-null  int64  \n",
            " 31  wheelchair_access     47260 non-null  int64  \n",
            " 32  common_outdoor_space  47260 non-null  int64  \n",
            " 33  desc_len              47260 non-null  int64  \n",
            " 34  total_rooms           47260 non-null  float64\n",
            " 35  cats_dogs             47260 non-null  int64  \n",
            "dtypes: float64(4), int64(28), object(4)\n",
            "memory usage: 13.3+ MB\n"
          ]
        }
      ]
    },
    {
      "cell_type": "code",
      "source": [
        "# Cats and dogs allowed\n",
        "# df['cats_dogs'] = (df['cats_allowed'] + df['dogs_allowed'] == 2).astype(int) # cast it as an integer"
      ],
      "metadata": {
        "id": "BYpYNTj4q5XX"
      },
      "execution_count": null,
      "outputs": []
    },
    {
      "cell_type": "code",
      "source": [
        "# Visualize data(# of rooms - beds & baths)\n",
        "plt.subplots(figsize=(8,5))\n",
        "plt.scatter(x='bedrooms', y='price', color='blue', data=df)\n",
        "plt.scatter(x='bathrooms', y='price', color='green', data=df)\n",
        "plt.show();"
      ],
      "metadata": {
        "colab": {
          "base_uri": "https://localhost:8080/",
          "height": 320
        },
        "id": "_3-xymBNn56x",
        "outputId": "a4b1feab-1721-4803-9ddf-3168c2344386"
      },
      "execution_count": null,
      "outputs": [
        {
          "output_type": "display_data",
          "data": {
            "text/plain": [
              "<Figure size 576x360 with 1 Axes>"
            ],
            "image/png": "[encoded data removed]"
          },
          "metadata": {
            "needs_background": "light"
          }
        }
      ]
    },
    {
      "cell_type": "code",
      "source": [
        "# Visualize data(Pets allowed - cats & dogs)\n",
        "plt.subplots(figsize=(8,5))\n",
        "plt.scatter(x='cats_allowed', y='price', color='gray', data=df)\n",
        "plt.scatter(x='dogs_allowed', y='price', color='blue', data=df)\n",
        "plt.show();"
      ],
      "metadata": {
        "colab": {
          "base_uri": "https://localhost:8080/",
          "height": 320
        },
        "id": "3R91iUdJpP05",
        "outputId": "eb7aaf97-ba4b-4e54-c523-f21951e64a18"
      },
      "execution_count": null,
      "outputs": [
        {
          "output_type": "display_data",
          "data": {
            "text/plain": [
              "<Figure size 576x360 with 1 Axes>"
            ],
            "image/png": "[encoded data removed]"
          },
          "metadata": {
            "needs_background": "light"
          }
        }
      ]
    },
    {
      "cell_type": "code",
      "source": [
        "# Visualize data(Decription length)\n",
        "plt.subplots(figsize=(8,5))\n",
        "plt.scatter(x='desc_len', y='price', color='gray', data=df)\n",
        "plt.show();"
      ],
      "metadata": {
        "colab": {
          "base_uri": "https://localhost:8080/",
          "height": 320
        },
        "id": "HnMcQFOsS_o8",
        "outputId": "bb5a009a-7ec9-4f33-aaac-7428891e203c"
      },
      "execution_count": null,
      "outputs": [
        {
          "output_type": "display_data",
          "data": {
            "text/plain": [
              "<Figure size 576x360 with 1 Axes>"
            ],
            "image/png": "[encoded data removed]"
          },
          "metadata": {
            "needs_background": "light"
          }
        }
      ]
    },
    {
      "cell_type": "markdown",
      "metadata": {
        "id": "mePlnGp9fMxi"
      },
      "source": [
        "# II. Split Data\n",
        "\n",
        "**Task 3:** Split your DataFrame `df` into a feature matrix `X` and the target vector `y`. You want to predict `'price'`.\n",
        "\n",
        "**Note:** In contrast to the last module project, this time you should include _all_ the numerical features in your dataset."
      ]
    },
    {
      "cell_type": "code",
      "execution_count": null,
      "metadata": {
        "id": "fzLpus4IfMxi"
      },
      "outputs": [],
      "source": [
        "# Define feature X and target y\n",
        "target = 'price'\n",
        "X = df.select_dtypes('number').drop(columns=target) # select only numerical variables and remove target column\n",
        "y = df[target]"
      ]
    },
    {
      "cell_type": "code",
      "source": [
        "# Look at the shape of the feature matrix and vector\n",
        "X.shape, y.shape"
      ],
      "metadata": {
        "colab": {
          "base_uri": "https://localhost:8080/"
        },
        "id": "9fXfMDBZvBbF",
        "outputId": "51adbc54-d268-4946-96fc-3c847687a80d"
      },
      "execution_count": null,
      "outputs": [
        {
          "output_type": "execute_result",
          "data": {
            "text/plain": [
              "((47260, 31), (47260,))"
            ]
          },
          "metadata": {},
          "execution_count": 25
        }
      ]
    },
    {
      "cell_type": "markdown",
      "metadata": {
        "id": "5-1g59xafMxj"
      },
      "source": [
        "**Task 4:** Split `X` and `y` into a training set (`X_train`, `y_train`) and a test set (`X_test`, `y_test`).\n",
        "\n",
        "- Your training set should include data from April and May 2016. \n",
        "- Your test set should include data from June 2016."
      ]
    },
    {
      "cell_type": "code",
      "execution_count": null,
      "metadata": {
        "id": "h_77gQN_fMxj"
      },
      "outputs": [],
      "source": [
        "# Time series train-test split\n",
        "cutoff = '2016-06-01'\n",
        "mask = X.index < cutoff\n",
        "\n",
        "X_train, y_train = X.loc[mask], y.loc[mask]\n",
        "X_test, y_test = X.loc[~mask], y.loc[~mask] # invert the mask\n",
        "\n",
        "# Sanity Check\n",
        "assert len(X_test) + len(X_train) == len(X)"
      ]
    },
    {
      "cell_type": "code",
      "source": [
        "X_train.info()"
      ],
      "metadata": {
        "colab": {
          "base_uri": "https://localhost:8080/"
        },
        "id": "yApeZmDAMmHw",
        "outputId": "88ecfee3-bc32-471c-b3c5-edc64fa2420a"
      },
      "execution_count": null,
      "outputs": [
        {
          "output_type": "stream",
          "name": "stdout",
          "text": [
            "<class 'pandas.core.frame.DataFrame'>\n",
            "DatetimeIndex: 30806 entries, 2016-04-01 22:12:41 to 2016-05-31 23:10:48\n",
            "Data columns (total 31 columns):\n",
            " #   Column                Non-Null Count  Dtype  \n",
            "---  ------                --------------  -----  \n",
            " 0   bathrooms             30806 non-null  float64\n",
            " 1   bedrooms              30806 non-null  int64  \n",
            " 2   latitude              30806 non-null  float64\n",
            " 3   longitude             30806 non-null  float64\n",
            " 4   elevator              30806 non-null  int64  \n",
            " 5   cats_allowed          30806 non-null  int64  \n",
            " 6   hardwood_floors       30806 non-null  int64  \n",
            " 7   dogs_allowed          30806 non-null  int64  \n",
            " 8   doorman               30806 non-null  int64  \n",
            " 9   dishwasher            30806 non-null  int64  \n",
            " 10  no_fee                30806 non-null  int64  \n",
            " 11  laundry_in_building   30806 non-null  int64  \n",
            " 12  fitness_center        30806 non-null  int64  \n",
            " 13  pre-war               30806 non-null  int64  \n",
            " 14  laundry_in_unit       30806 non-null  int64  \n",
            " 15  roof_deck             30806 non-null  int64  \n",
            " 16  outdoor_space         30806 non-null  int64  \n",
            " 17  dining_room           30806 non-null  int64  \n",
            " 18  high_speed_internet   30806 non-null  int64  \n",
            " 19  balcony               30806 non-null  int64  \n",
            " 20  swimming_pool         30806 non-null  int64  \n",
            " 21  new_construction      30806 non-null  int64  \n",
            " 22  terrace               30806 non-null  int64  \n",
            " 23  exclusive             30806 non-null  int64  \n",
            " 24  loft                  30806 non-null  int64  \n",
            " 25  garden_patio          30806 non-null  int64  \n",
            " 26  wheelchair_access     30806 non-null  int64  \n",
            " 27  common_outdoor_space  30806 non-null  int64  \n",
            " 28  desc_len              30806 non-null  int64  \n",
            " 29  total_rooms           30806 non-null  float64\n",
            " 30  cats_dogs             30806 non-null  int64  \n",
            "dtypes: float64(4), int64(27)\n",
            "memory usage: 7.5 MB\n"
          ]
        }
      ]
    },
    {
      "cell_type": "code",
      "source": [
        "X_test.info()"
      ],
      "metadata": {
        "colab": {
          "base_uri": "https://localhost:8080/"
        },
        "id": "ds8jJ_cdM0aW",
        "outputId": "f3bc5597-3379-40c7-98cf-924259718053"
      },
      "execution_count": null,
      "outputs": [
        {
          "output_type": "stream",
          "name": "stdout",
          "text": [
            "<class 'pandas.core.frame.DataFrame'>\n",
            "DatetimeIndex: 16454 entries, 2016-06-01 01:10:37 to 2016-06-29 21:41:47\n",
            "Data columns (total 31 columns):\n",
            " #   Column                Non-Null Count  Dtype  \n",
            "---  ------                --------------  -----  \n",
            " 0   bathrooms             16454 non-null  float64\n",
            " 1   bedrooms              16454 non-null  int64  \n",
            " 2   latitude              16454 non-null  float64\n",
            " 3   longitude             16454 non-null  float64\n",
            " 4   elevator              16454 non-null  int64  \n",
            " 5   cats_allowed          16454 non-null  int64  \n",
            " 6   hardwood_floors       16454 non-null  int64  \n",
            " 7   dogs_allowed          16454 non-null  int64  \n",
            " 8   doorman               16454 non-null  int64  \n",
            " 9   dishwasher            16454 non-null  int64  \n",
            " 10  no_fee                16454 non-null  int64  \n",
            " 11  laundry_in_building   16454 non-null  int64  \n",
            " 12  fitness_center        16454 non-null  int64  \n",
            " 13  pre-war               16454 non-null  int64  \n",
            " 14  laundry_in_unit       16454 non-null  int64  \n",
            " 15  roof_deck             16454 non-null  int64  \n",
            " 16  outdoor_space         16454 non-null  int64  \n",
            " 17  dining_room           16454 non-null  int64  \n",
            " 18  high_speed_internet   16454 non-null  int64  \n",
            " 19  balcony               16454 non-null  int64  \n",
            " 20  swimming_pool         16454 non-null  int64  \n",
            " 21  new_construction      16454 non-null  int64  \n",
            " 22  terrace               16454 non-null  int64  \n",
            " 23  exclusive             16454 non-null  int64  \n",
            " 24  loft                  16454 non-null  int64  \n",
            " 25  garden_patio          16454 non-null  int64  \n",
            " 26  wheelchair_access     16454 non-null  int64  \n",
            " 27  common_outdoor_space  16454 non-null  int64  \n",
            " 28  desc_len              16454 non-null  int64  \n",
            " 29  total_rooms           16454 non-null  float64\n",
            " 30  cats_dogs             16454 non-null  int64  \n",
            "dtypes: float64(4), int64(27)\n",
            "memory usage: 4.0 MB\n"
          ]
        }
      ]
    },
    {
      "cell_type": "markdown",
      "metadata": {
        "id": "RswVk6lrfMxj"
      },
      "source": [
        "# III. Establish Baseline"
      ]
    },
    {
      "cell_type": "markdown",
      "metadata": {
        "id": "GN6IKrJbfMxj"
      },
      "source": [
        "**Task 5:** Since this is a **regression** problem, you need to calculate the baseline mean absolute error for your model. First, calculate the mean of `y_train`. Next, create a list `y_pred` that has the same length as `y_train` and where every item in the list is the mean. Finally, use `mean_absolute_error` to calculate your baseline."
      ]
    },
    {
      "cell_type": "code",
      "execution_count": null,
      "metadata": {
        "id": "uRE72QTJfMxk",
        "colab": {
          "base_uri": "https://localhost:8080/"
        },
        "outputId": "d2c2e453-0736-422e-8a76-9d89c26deab2"
      },
      "outputs": [
        {
          "output_type": "stream",
          "name": "stdout",
          "text": [
            "Mean of y_train (Apartment Rent): 3573.2410569369604\n",
            "Baseline MAE: 1202.3983007818476\n"
          ]
        }
      ],
      "source": [
        "# Calculate the mean of y_train \n",
        "y_train_mean = y_train.mean()\n",
        "\n",
        "# Create list y_pred with same length as y_train\n",
        "y_pred = [y_train_mean] * len(y_train)\n",
        "\n",
        "baseline_mae = mean_absolute_error(y_train, y_pred)\n",
        "print('Mean of y_train (Apartment Rent):', y_train_mean)\n",
        "print('Baseline MAE:', baseline_mae)"
      ]
    },
    {
      "cell_type": "markdown",
      "source": [
        "**Comment:** If we always guessed that the rent for an apartment would be $3, 573.\n",
        "\n",
        "That means on average, we would be off by $1,202."
      ],
      "metadata": {
        "id": "1Zk8kisNRWrs"
      }
    },
    {
      "cell_type": "markdown",
      "metadata": {
        "id": "ccNGDdC-fMxk"
      },
      "source": [
        "# IV. Build Model\n",
        "\n",
        "**Task 6:** Build and train a `LinearRegression` model named `model` using your feature matrix `X_train` and your target vector `y_train`."
      ]
    },
    {
      "cell_type": "code",
      "execution_count": null,
      "metadata": {
        "id": "HAlx9X_xfMxk",
        "colab": {
          "base_uri": "https://localhost:8080/"
        },
        "outputId": "309b1d0e-7c05-4ee3-df3c-caede25ff407"
      },
      "outputs": [
        {
          "output_type": "execute_result",
          "data": {
            "text/plain": [
              "LinearRegression()"
            ]
          },
          "metadata": {},
          "execution_count": 30
        }
      ],
      "source": [
        "# Step 1: Import predictor class\n",
        "# Imported at the beginning of the notebook \n",
        "\n",
        "# Step 2: Instantiate predictor\n",
        "model = LinearRegression()\n",
        "\n",
        "# Step 3: Fit predictor on the (training) data\n",
        "model.fit(X_train, y_train)"
      ]
    },
    {
      "cell_type": "markdown",
      "metadata": {
        "id": "qVoAqiaLfMxl"
      },
      "source": [
        "# V. Check Metrics\n",
        "\n",
        "**Task 7:** Calculate the training and test mean absolute error for your model."
      ]
    },
    {
      "cell_type": "code",
      "source": [
        "# Make predictions\n",
        "y_pred_train_model = model.predict(X_train)\n",
        "y_pred_test_model = model.predict(X_test)"
      ],
      "metadata": {
        "id": "GdmGSRlgPb5R"
      },
      "execution_count": null,
      "outputs": []
    },
    {
      "cell_type": "code",
      "execution_count": null,
      "metadata": {
        "id": "YiiHUuMvfMxl",
        "colab": {
          "base_uri": "https://localhost:8080/"
        },
        "outputId": "b2f57393-d647-4d40-e544-0cd07f753f6c"
      },
      "outputs": [
        {
          "output_type": "stream",
          "name": "stdout",
          "text": [
            "Training MAE: 692.5825870871208\n",
            "Test MAE: 701.1773006806592\n"
          ]
        }
      ],
      "source": [
        "# Check performance metrics\n",
        "training_mae = mean_absolute_error(y_train, y_pred_train_model)\n",
        "test_mae = mean_absolute_error(y_test, y_pred_test_model)\n",
        "\n",
        "print('Training MAE:', training_mae)\n",
        "print('Test MAE:', test_mae)"
      ]
    },
    {
      "cell_type": "markdown",
      "source": [
        "**Comment:** The performance metrics for the training and test data are very similar. The Mean Absolute Error for our training data is less than the Mean Absolute Error for the testing data. Which means that the performance of our training set was better than the performance of the testing set. Since the metrics are pretty similar, we can say that our model is generalizing well."
      ],
      "metadata": {
        "id": "DSQv7loTTq-x"
      }
    },
    {
      "cell_type": "markdown",
      "metadata": {
        "id": "ViKXL4mGfMxl"
      },
      "source": [
        "**Task 8:** Calculate the training and test $R^2$ score for your model."
      ]
    },
    {
      "cell_type": "code",
      "execution_count": null,
      "metadata": {
        "id": "XJ5rfoWBfMxl",
        "colab": {
          "base_uri": "https://localhost:8080/"
        },
        "outputId": "cd033880-9e84-4dbe-fb0c-b7dda56f4784"
      },
      "outputs": [
        {
          "output_type": "stream",
          "name": "stdout",
          "text": [
            "Training MAE: 0.6164320027205022\n",
            "Test MAE: 0.6261548870791152\n"
          ]
        }
      ],
      "source": [
        "training_r2 = r2_score(y_train, y_pred_train_model)\n",
        "test_r2 = r2_score(y_test, y_pred_test_model)\n",
        "\n",
        "print('Training MAE:', training_r2)\n",
        "print('Test MAE:', test_r2)"
      ]
    },
    {
      "cell_type": "code",
      "source": [
        "# Alternative way to get the score\n",
        "# training_r2 = model.score(X_train, y_train)\n",
        "# test_r2 = model.score(X_test, y_test)\n",
        "# print('Training MAE:', training_r2)\n",
        "# print('Test MAE:', test_r2)"
      ],
      "metadata": {
        "colab": {
          "base_uri": "https://localhost:8080/"
        },
        "id": "VjS5Gwt_VDMd",
        "outputId": "f0abd192-91b6-4723-e9d9-4a41e77ef5b8"
      },
      "execution_count": null,
      "outputs": [
        {
          "output_type": "stream",
          "name": "stdout",
          "text": [
            "Training MAE: 0.6164320027205022\n",
            "Test MAE: 0.6261548870791152\n"
          ]
        }
      ]
    },
    {
      "cell_type": "markdown",
      "source": [
        "**Comment:** The performance metrics are very close to each other. It doesn't seem to be overfitted. The model doesn't have a great performance, but it generalizes well."
      ],
      "metadata": {
        "id": "w-ZEq1WkU1w-"
      }
    },
    {
      "cell_type": "markdown",
      "metadata": {
        "id": "0VOsOh6FfMxl"
      },
      "source": [
        "# VI. Communicate Results\n",
        "\n",
        "**Stretch Goal:** What are the three most influential coefficients in your linear model? You should consider the _absolute value_ of each coefficient, so that it doesn't matter if it's positive or negative."
      ]
    },
    {
      "cell_type": "code",
      "execution_count": null,
      "metadata": {
        "id": "Hj5le7iqfMxm",
        "colab": {
          "base_uri": "https://localhost:8080/"
        },
        "outputId": "07a79eb6-c873-4198-d3bb-cf7f851e057b"
      },
      "outputs": [
        {
          "output_type": "stream",
          "name": "stdout",
          "text": [
            "Intercept:\n",
            ": -1071239.2268087133\n",
            "\n",
            "Coefficients:\n",
            " [ 1.01608830e+03 -2.70523243e+02  1.62768342e+03 -1.35912345e+04\n",
            "  1.31808196e+02 -4.64507536e+01 -2.06326439e+02 -1.98678705e+02\n",
            "  4.77702333e+02  5.41662155e+01 -1.66841075e+02 -2.55347417e+02\n",
            "  1.32261728e+02 -6.65146398e+01  4.97679987e+02 -1.62292567e+02\n",
            " -1.12793909e+02  2.47385688e+02 -3.37147115e+02 -4.79220931e+01\n",
            "  6.13626263e+01 -1.40237739e+02  1.81880197e+02  1.43215041e+02\n",
            "  1.14924381e+02 -4.63466420e+01  1.88908624e+02 -8.16823375e+01\n",
            "  4.32317343e-02  7.45565061e+02  2.95754188e+02]\n",
            "\n",
            "Column Names:\n",
            " Index(['bathrooms', 'bedrooms', 'latitude', 'longitude', 'elevator',\n",
            "       'cats_allowed', 'hardwood_floors', 'dogs_allowed', 'doorman',\n",
            "       'dishwasher', 'no_fee', 'laundry_in_building', 'fitness_center',\n",
            "       'pre-war', 'laundry_in_unit', 'roof_deck', 'outdoor_space',\n",
            "       'dining_room', 'high_speed_internet', 'balcony', 'swimming_pool',\n",
            "       'new_construction', 'terrace', 'exclusive', 'loft', 'garden_patio',\n",
            "       'wheelchair_access', 'common_outdoor_space', 'desc_len', 'total_rooms',\n",
            "       'cats_dogs'],\n",
            "      dtype='object')\n"
          ]
        }
      ],
      "source": [
        "# Intercept\n",
        "intercept = model.intercept_\n",
        "print('Intercept:\\n:', intercept)\n",
        "\n",
        "# Slopes/Coefficients\n",
        "coefficients = model.coef_\n",
        "print('\\nCoefficients:\\n', coefficients)\n",
        "\n",
        "# Features / Independent Variables\n",
        "features = X_train.columns\n",
        "print('\\nColumn Names:\\n', features)"
      ]
    },
    {
      "cell_type": "code",
      "source": [
        "# Sort coefficients by absolute value\n",
        "pd.Series(coefficients, index=features).sort_values(key=abs, ascending=False).head(3)\n"
      ],
      "metadata": {
        "colab": {
          "base_uri": "https://localhost:8080/"
        },
        "id": "bcCpkDUKRJen",
        "outputId": "37238f65-c614-47cd-ab6e-bf128074238e"
      },
      "execution_count": null,
      "outputs": [
        {
          "output_type": "execute_result",
          "data": {
            "text/plain": [
              "longitude   -13591.234455\n",
              "latitude      1627.683419\n",
              "bathrooms     1016.088304\n",
              "dtype: float64"
            ]
          },
          "metadata": {},
          "execution_count": 38
        }
      ]
    },
    {
      "cell_type": "code",
      "source": [
        "plt.scatter(X_train['longitude'], X_train['latitude']);"
      ],
      "metadata": {
        "colab": {
          "base_uri": "https://localhost:8080/",
          "height": 265
        },
        "id": "U88eOpzWXOc2",
        "outputId": "2447d3e8-d492-482f-8e6d-bb5d20f8bbc5"
      },
      "execution_count": null,
      "outputs": [
        {
          "output_type": "display_data",
          "data": {
            "text/plain": [
              "<Figure size 432x288 with 1 Axes>"
            ],
            "image/png": "[encoded data removed]"
          },
          "metadata": {
            "needs_background": "light"
          }
        }
      ]
    },
    {
      "cell_type": "markdown",
      "source": [
        "Longitude and Latitude are very influencial in the rent price of an apartment.\n",
        "\n",
        "The model tells us that for every increase in longitude, as we move from west to east, the price of rent decreases.\n",
        "\n",
        "For every change in latitude, as you move from south to north, apartment rent prices get more expensive."
      ],
      "metadata": {
        "id": "XD-o_htAXBEQ"
      }
    }
  ],
  "metadata": {
    "colab": {
      "collapsed_sections": [],
      "provenance": []
    },
    "kernelspec": {
      "display_name": "Python 3",
      "language": "python",
      "name": "python3"
    },
    "language_info": {
      "codemirror_mode": {
        "name": "ipython",
        "version": 3
      },
      "file_extension": ".py",
      "mimetype": "text/x-python",
      "name": "python",
      "nbconvert_exporter": "python",
      "pygments_lexer": "ipython3",
      "version": "3.8.5"
    }
  },
  "nbformat": 4,
  "nbformat_minor": 0
}
