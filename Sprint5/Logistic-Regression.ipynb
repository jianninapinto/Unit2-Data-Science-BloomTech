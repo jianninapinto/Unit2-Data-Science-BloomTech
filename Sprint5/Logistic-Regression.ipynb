{
  "cells": [
    {
      "cell_type": "markdown",
      "metadata": {
        "id": "t-VJX5vPhfms"
      },
      "source": [
        "BloomTech Data Science\n",
        "\n",
        "*Unit 2, Sprint 1, Module 4*\n",
        "\n",
        "---"
      ]
    },
    {
      "cell_type": "code",
      "execution_count": 1,
      "metadata": {
        "id": "pOqbWz1-hfmv"
      },
      "outputs": [],
      "source": [
        "%%capture\n",
        "import sys\n",
        "\n",
        "# If you're on Colab:\n",
        "if 'google.colab' in sys.modules:\n",
        "    DATA_PATH = 'https://raw.githubusercontent.com/LambdaSchool/DS-Unit-2-Linear-Models/master/data/'\n",
        "    !pip install category_encoders==2.* \n",
        "\n",
        "# If you're working locally:\n",
        "else:\n",
        "    DATA_PATH = '../data/'"
      ]
    },
    {
      "cell_type": "markdown",
      "metadata": {
        "id": "rwZIzMYThfmx"
      },
      "source": [
        "# Module Project: Logistic Regression\n",
        "\n",
        "Do you like burritos? 🌯 You're in luck then, because in this project you'll create a model to predict whether a burrito is `'Great'`.\n",
        "\n",
        "The dataset for this assignment comes from [Scott Cole](https://srcole.github.io/100burritos/), a San Diego-based data scientist and burrito enthusiast. \n",
        "\n",
        "## Directions\n",
        "\n",
        "The tasks for this project are the following:\n",
        "\n",
        "- **Task 1:** Import `csv` file using `wrangle` function.\n",
        "- **Task 2:** Conduct exploratory data analysis (EDA), and modify `wrangle` function .\n",
        "- **Task 3:** Split data into feature matrix `X` and target vector `y`.\n",
        "- **Task 4:** Split feature matrix `X` and target vector `y` into training and test sets.\n",
        "- **Task 5:** Establish the baseline accuracy score for your dataset.\n",
        "- **Task 6:** Build `model_logr` using a pipeline that includes three transfomers and `LogisticRegression` predictor. Train model on `X_train` and `X_test`.\n",
        "- **Task 7:** Calculate the training and test accuracy score for your model.\n",
        "- **Task 8:** Create a horizontal bar chart showing the 10 most influencial features for your  model. \n",
        "- **Task 9:** Demonstrate and explain the differences between `model_lr.predict()` and `model_lr.predict_proba()`.\n",
        "\n",
        "**Note** \n",
        "\n",
        "You should limit yourself to the following libraries:\n",
        "\n",
        "- `category_encoders`\n",
        "- `matplotlib`\n",
        "- `pandas`\n",
        "- `sklearn`"
      ]
    },
    {
      "cell_type": "code",
      "source": [
        "# Import libraries for this project\n",
        "from category_encoders import OneHotEncoder\n",
        "import matplotlib.pyplot as plt\n",
        "import pandas as pd\n",
        "import numpy as np\n",
        "from sklearn.linear_model import LogisticRegression \n",
        "from sklearn.preprocessing import StandardScaler\n",
        "from sklearn.pipeline import make_pipeline\n",
        "from sklearn.impute import SimpleImputer\n"
      ],
      "metadata": {
        "id": "dgNNwgexl24_"
      },
      "execution_count": 2,
      "outputs": []
    },
    {
      "cell_type": "markdown",
      "metadata": {
        "id": "2IcJMSH0hfmy"
      },
      "source": [
        "# I. Wrangle Data"
      ]
    },
    {
      "cell_type": "code",
      "execution_count": 3,
      "metadata": {
        "id": "VDIDQpC9hfmy"
      },
      "outputs": [],
      "source": [
        "def wrangle(filepath):\n",
        "    # Import w/ DateTimeIndex\n",
        "    df = pd.read_csv(filepath, parse_dates=['Date'],\n",
        "                     index_col='Date')\n",
        "    \n",
        "    # Drop unrated burritos\n",
        "    df.dropna(subset=['overall'], inplace=True)\n",
        "    \n",
        "    # Derive binary classification target:\n",
        "    # We define a 'Great' burrito as having an\n",
        "    # overall rating of 4 or higher, on a 5 point scale\n",
        "    df['Great'] = (df['overall'] >= 4).astype(int)\n",
        "    \n",
        "    # Drop high cardinality categoricals\n",
        "    df = df.drop(columns=['Notes', 'Location', 'Address', 'URL'])\n",
        "\n",
        "    # Cleaning binary columns\n",
        "    # Encode binary topping columns\n",
        "    binary_cols = ['NonSD', 'Beef', 'Pico', 'Guac', 'Cheese', 'Fries', 'Sour cream',\n",
        "                    'Pork', 'Chicken', 'Shrimp', 'Fish', 'Rice', 'Beans', 'Lettuce',\n",
        "                    'Tomato', 'Bell peper', 'Carrots', 'Cabbage', 'Sauce', 'Salsa.1',\n",
        "                    'Cilantro', 'Onion', 'Taquito', 'Pineapple', 'Ham', 'Chile relleno',\n",
        "                    'Nopales', 'Lobster', 'Queso', 'Egg', 'Mushroom', 'Bacon', 'Sushi',\n",
        "                    'Avocado', 'Corn', 'Zucchini', 'Chips']\n",
        "\n",
        "    df[binary_cols] = df[binary_cols].applymap(lambda x:1 if type(x) == str else 0)\n",
        "    \n",
        "    # Feature Engineering\n",
        "    # Create pseudo one-hot encoded categories for 'Burrito'\n",
        "    burrito_type = ['california', 'asada', 'surf', 'carnitas']\n",
        "\n",
        "    for b in burrito_type:\n",
        "      df[b] = df['Burrito'].str.lower().str.contains(b).astype(int)\n",
        "\n",
        "    # # Drop columns to prevent \"leakage\"\n",
        "    df = df.drop(columns=['Rec', 'overall', 'Burrito']) \n",
        "\n",
        "\n",
        "    return df\n",
        "\n",
        "filepath = DATA_PATH + 'burritos/burritos.csv'"
      ]
    },
    {
      "cell_type": "markdown",
      "metadata": {
        "id": "cEptLzO8hfmz"
      },
      "source": [
        "**Task 1:** Use the above `wrangle` function to import the `burritos.csv` file into a DataFrame named `df`."
      ]
    },
    {
      "cell_type": "code",
      "source": [
        "# Check dataframe withouth wrangle function\n",
        "df = pd.read_csv(filepath)\n",
        "print(df.shape)\n",
        "df.head()"
      ],
      "metadata": {
        "colab": {
          "base_uri": "https://localhost:8080/",
          "height": 508
        },
        "id": "xfAtCiYReo_e",
        "outputId": "a88581d2-d35e-42a8-b16f-0423c9af902f"
      },
      "execution_count": 4,
      "outputs": [
        {
          "output_type": "stream",
          "name": "stdout",
          "text": [
            "(423, 66)\n"
          ]
        },
        {
          "output_type": "execute_result",
          "data": {
            "text/plain": [
              "               Location      Burrito       Date Neighborhood  \\\n",
              "0    Donato's taco shop  California   1/18/2016      Miramar   \n",
              "1  Oscar's Mexican food  California   1/24/2016   San Marcos   \n",
              "2  Oscar's Mexican food     Carnitas  1/24/2016          NaN   \n",
              "3  Oscar's Mexican food  Carne asada  1/24/2016          NaN   \n",
              "4          Pollos Maria   California  1/27/2016     Carlsbad   \n",
              "\n",
              "                    Address  \\\n",
              "0           6780 Miramar Rd   \n",
              "1  225 S Rancho Santa Fe Rd   \n",
              "2                       NaN   \n",
              "3                       NaN   \n",
              "4           3055 Harding St   \n",
              "\n",
              "                                                 URL  Yelp  Google Chips  \\\n",
              "0                        http://donatostacoshop.net/   3.5     4.2   NaN   \n",
              "1  http://www.yelp.com/biz/oscars-mexican-food-sa...   3.5     3.3   NaN   \n",
              "2                                                NaN   NaN     NaN   NaN   \n",
              "3                                                NaN   NaN     NaN   NaN   \n",
              "4                            http://pollosmaria.com/   4.0     3.8     x   \n",
              "\n",
              "   Cost  ...  Nopales  Lobster  Queso  Egg  Mushroom  Bacon  Sushi  Avocado  \\\n",
              "0  6.49  ...      NaN      NaN    NaN  NaN       NaN    NaN    NaN      NaN   \n",
              "1  5.45  ...      NaN      NaN    NaN  NaN       NaN    NaN    NaN      NaN   \n",
              "2  4.85  ...      NaN      NaN    NaN  NaN       NaN    NaN    NaN      NaN   \n",
              "3  5.25  ...      NaN      NaN    NaN  NaN       NaN    NaN    NaN      NaN   \n",
              "4  6.59  ...      NaN      NaN    NaN  NaN       NaN    NaN    NaN      NaN   \n",
              "\n",
              "   Corn  Zucchini  \n",
              "0   NaN       NaN  \n",
              "1   NaN       NaN  \n",
              "2   NaN       NaN  \n",
              "3   NaN       NaN  \n",
              "4   NaN       NaN  \n",
              "\n",
              "[5 rows x 66 columns]"
            ],
            "text/html": [
              "\n",
              "  <div id=\"df-2d0236b2-4c21-40a8-8a3e-1f32157037dc\">\n",
              "    <div class=\"colab-df-container\">\n",
              "      <div>\n",
              "<style scoped>\n",
              "    .dataframe tbody tr th:only-of-type {\n",
              "        vertical-align: middle;\n",
              "    }\n",
              "\n",
              "    .dataframe tbody tr th {\n",
              "        vertical-align: top;\n",
              "    }\n",
              "\n",
              "    .dataframe thead th {\n",
              "        text-align: right;\n",
              "    }\n",
              "</style>\n",
              "<table border=\"1\" class=\"dataframe\">\n",
              "  <thead>\n",
              "    <tr style=\"text-align: right;\">\n",
              "      <th></th>\n",
              "      <th>Location</th>\n",
              "      <th>Burrito</th>\n",
              "      <th>Date</th>\n",
              "      <th>Neighborhood</th>\n",
              "      <th>Address</th>\n",
              "      <th>URL</th>\n",
              "      <th>Yelp</th>\n",
              "      <th>Google</th>\n",
              "      <th>Chips</th>\n",
              "      <th>Cost</th>\n",
              "      <th>...</th>\n",
              "      <th>Nopales</th>\n",
              "      <th>Lobster</th>\n",
              "      <th>Queso</th>\n",
              "      <th>Egg</th>\n",
              "      <th>Mushroom</th>\n",
              "      <th>Bacon</th>\n",
              "      <th>Sushi</th>\n",
              "      <th>Avocado</th>\n",
              "      <th>Corn</th>\n",
              "      <th>Zucchini</th>\n",
              "    </tr>\n",
              "  </thead>\n",
              "  <tbody>\n",
              "    <tr>\n",
              "      <th>0</th>\n",
              "      <td>Donato's taco shop</td>\n",
              "      <td>California</td>\n",
              "      <td>1/18/2016</td>\n",
              "      <td>Miramar</td>\n",
              "      <td>6780 Miramar Rd</td>\n",
              "      <td>http://donatostacoshop.net/</td>\n",
              "      <td>3.5</td>\n",
              "      <td>4.2</td>\n",
              "      <td>NaN</td>\n",
              "      <td>6.49</td>\n",
              "      <td>...</td>\n",
              "      <td>NaN</td>\n",
              "      <td>NaN</td>\n",
              "      <td>NaN</td>\n",
              "      <td>NaN</td>\n",
              "      <td>NaN</td>\n",
              "      <td>NaN</td>\n",
              "      <td>NaN</td>\n",
              "      <td>NaN</td>\n",
              "      <td>NaN</td>\n",
              "      <td>NaN</td>\n",
              "    </tr>\n",
              "    <tr>\n",
              "      <th>1</th>\n",
              "      <td>Oscar's Mexican food</td>\n",
              "      <td>California</td>\n",
              "      <td>1/24/2016</td>\n",
              "      <td>San Marcos</td>\n",
              "      <td>225 S Rancho Santa Fe Rd</td>\n",
              "      <td>http://www.yelp.com/biz/oscars-mexican-food-sa...</td>\n",
              "      <td>3.5</td>\n",
              "      <td>3.3</td>\n",
              "      <td>NaN</td>\n",
              "      <td>5.45</td>\n",
              "      <td>...</td>\n",
              "      <td>NaN</td>\n",
              "      <td>NaN</td>\n",
              "      <td>NaN</td>\n",
              "      <td>NaN</td>\n",
              "      <td>NaN</td>\n",
              "      <td>NaN</td>\n",
              "      <td>NaN</td>\n",
              "      <td>NaN</td>\n",
              "      <td>NaN</td>\n",
              "      <td>NaN</td>\n",
              "    </tr>\n",
              "    <tr>\n",
              "      <th>2</th>\n",
              "      <td>Oscar's Mexican food</td>\n",
              "      <td>Carnitas</td>\n",
              "      <td>1/24/2016</td>\n",
              "      <td>NaN</td>\n",
              "      <td>NaN</td>\n",
              "      <td>NaN</td>\n",
              "      <td>NaN</td>\n",
              "      <td>NaN</td>\n",
              "      <td>NaN</td>\n",
              "      <td>4.85</td>\n",
              "      <td>...</td>\n",
              "      <td>NaN</td>\n",
              "      <td>NaN</td>\n",
              "      <td>NaN</td>\n",
              "      <td>NaN</td>\n",
              "      <td>NaN</td>\n",
              "      <td>NaN</td>\n",
              "      <td>NaN</td>\n",
              "      <td>NaN</td>\n",
              "      <td>NaN</td>\n",
              "      <td>NaN</td>\n",
              "    </tr>\n",
              "    <tr>\n",
              "      <th>3</th>\n",
              "      <td>Oscar's Mexican food</td>\n",
              "      <td>Carne asada</td>\n",
              "      <td>1/24/2016</td>\n",
              "      <td>NaN</td>\n",
              "      <td>NaN</td>\n",
              "      <td>NaN</td>\n",
              "      <td>NaN</td>\n",
              "      <td>NaN</td>\n",
              "      <td>NaN</td>\n",
              "      <td>5.25</td>\n",
              "      <td>...</td>\n",
              "      <td>NaN</td>\n",
              "      <td>NaN</td>\n",
              "      <td>NaN</td>\n",
              "      <td>NaN</td>\n",
              "      <td>NaN</td>\n",
              "      <td>NaN</td>\n",
              "      <td>NaN</td>\n",
              "      <td>NaN</td>\n",
              "      <td>NaN</td>\n",
              "      <td>NaN</td>\n",
              "    </tr>\n",
              "    <tr>\n",
              "      <th>4</th>\n",
              "      <td>Pollos Maria</td>\n",
              "      <td>California</td>\n",
              "      <td>1/27/2016</td>\n",
              "      <td>Carlsbad</td>\n",
              "      <td>3055 Harding St</td>\n",
              "      <td>http://pollosmaria.com/</td>\n",
              "      <td>4.0</td>\n",
              "      <td>3.8</td>\n",
              "      <td>x</td>\n",
              "      <td>6.59</td>\n",
              "      <td>...</td>\n",
              "      <td>NaN</td>\n",
              "      <td>NaN</td>\n",
              "      <td>NaN</td>\n",
              "      <td>NaN</td>\n",
              "      <td>NaN</td>\n",
              "      <td>NaN</td>\n",
              "      <td>NaN</td>\n",
              "      <td>NaN</td>\n",
              "      <td>NaN</td>\n",
              "      <td>NaN</td>\n",
              "    </tr>\n",
              "  </tbody>\n",
              "</table>\n",
              "<p>5 rows × 66 columns</p>\n",
              "</div>\n",
              "      <button class=\"colab-df-convert\" onclick=\"convertToInteractive('df-2d0236b2-4c21-40a8-8a3e-1f32157037dc')\"\n",
              "              title=\"Convert this dataframe to an interactive table.\"\n",
              "              style=\"display:none;\">\n",
              "        \n",
              "  <svg xmlns=\"http://www.w3.org/2000/svg\" height=\"24px\"viewBox=\"0 0 24 24\"\n",
              "       width=\"24px\">\n",
              "    <path d=\"M0 0h24v24H0V0z\" fill=\"none\"/>\n",
              "    <path d=\"M18.56 5.44l.94 2.06.94-2.06 2.06-.94-2.06-.94-.94-2.06-.94 2.06-2.06.94zm-11 1L8.5 8.5l.94-2.06 2.06-.94-2.06-.94L8.5 2.5l-.94 2.06-2.06.94zm10 10l.94 2.06.94-2.06 2.06-.94-2.06-.94-.94-2.06-.94 2.06-2.06.94z\"/><path d=\"M17.41 7.96l-1.37-1.37c-.4-.4-.92-.59-1.43-.59-.52 0-1.04.2-1.43.59L10.3 9.45l-7.72 7.72c-.78.78-.78 2.05 0 2.83L4 21.41c.39.39.9.59 1.41.59.51 0 1.02-.2 1.41-.59l7.78-7.78 2.81-2.81c.8-.78.8-2.07 0-2.86zM5.41 20L4 18.59l7.72-7.72 1.47 1.35L5.41 20z\"/>\n",
              "  </svg>\n",
              "      </button>\n",
              "      \n",
              "  <style>\n",
              "    .colab-df-container {\n",
              "      display:flex;\n",
              "      flex-wrap:wrap;\n",
              "      gap: 12px;\n",
              "    }\n",
              "\n",
              "    .colab-df-convert {\n",
              "      background-color: #E8F0FE;\n",
              "      border: none;\n",
              "      border-radius: 50%;\n",
              "      cursor: pointer;\n",
              "      display: none;\n",
              "      fill: #1967D2;\n",
              "      height: 32px;\n",
              "      padding: 0 0 0 0;\n",
              "      width: 32px;\n",
              "    }\n",
              "\n",
              "    .colab-df-convert:hover {\n",
              "      background-color: #E2EBFA;\n",
              "      box-shadow: 0px 1px 2px rgba(60, 64, 67, 0.3), 0px 1px 3px 1px rgba(60, 64, 67, 0.15);\n",
              "      fill: #174EA6;\n",
              "    }\n",
              "\n",
              "    [theme=dark] .colab-df-convert {\n",
              "      background-color: #3B4455;\n",
              "      fill: #D2E3FC;\n",
              "    }\n",
              "\n",
              "    [theme=dark] .colab-df-convert:hover {\n",
              "      background-color: #434B5C;\n",
              "      box-shadow: 0px 1px 3px 1px rgba(0, 0, 0, 0.15);\n",
              "      filter: drop-shadow(0px 1px 2px rgba(0, 0, 0, 0.3));\n",
              "      fill: #FFFFFF;\n",
              "    }\n",
              "  </style>\n",
              "\n",
              "      <script>\n",
              "        const buttonEl =\n",
              "          document.querySelector('#df-2d0236b2-4c21-40a8-8a3e-1f32157037dc button.colab-df-convert');\n",
              "        buttonEl.style.display =\n",
              "          google.colab.kernel.accessAllowed ? 'block' : 'none';\n",
              "\n",
              "        async function convertToInteractive(key) {\n",
              "          const element = document.querySelector('#df-2d0236b2-4c21-40a8-8a3e-1f32157037dc');\n",
              "          const dataTable =\n",
              "            await google.colab.kernel.invokeFunction('convertToInteractive',\n",
              "                                                     [key], {});\n",
              "          if (!dataTable) return;\n",
              "\n",
              "          const docLinkHtml = 'Like what you see? Visit the ' +\n",
              "            '<a target=\"_blank\" href=https://colab.research.google.com/notebooks/data_table.ipynb>data table notebook</a>'\n",
              "            + ' to learn more about interactive tables.';\n",
              "          element.innerHTML = '';\n",
              "          dataTable['output_type'] = 'display_data';\n",
              "          await google.colab.output.renderOutput(dataTable, element);\n",
              "          const docLink = document.createElement('div');\n",
              "          docLink.innerHTML = docLinkHtml;\n",
              "          element.appendChild(docLink);\n",
              "        }\n",
              "      </script>\n",
              "    </div>\n",
              "  </div>\n",
              "  "
            ]
          },
          "metadata": {},
          "execution_count": 4
        }
      ]
    },
    {
      "cell_type": "code",
      "execution_count": 5,
      "metadata": {
        "id": "tRWTAhGThfmz"
      },
      "outputs": [],
      "source": [
        "# Load data using wrangle function\n",
        "df = wrangle(filepath)"
      ]
    },
    {
      "cell_type": "markdown",
      "metadata": {
        "id": "Lue27xinhfm0"
      },
      "source": [
        "During your exploratory data analysis, note that there are several columns whose data type is `object` but that seem to be a binary encoding. For example, `df['Beef'].head()` returns:\n",
        "\n",
        "```\n",
        "0      x\n",
        "1      x\n",
        "2    NaN\n",
        "3      x\n",
        "4      x\n",
        "Name: Beef, dtype: object\n",
        "```\n",
        "\n",
        "**Task 2:** Change the `wrangle` function so that these columns are properly encoded as `0` and `1`s. Be sure your code handles upper- and lowercase `X`s, and `NaN`s."
      ]
    },
    {
      "cell_type": "code",
      "execution_count": 6,
      "metadata": {
        "id": "8WCmBiARhfm0",
        "colab": {
          "base_uri": "https://localhost:8080/",
          "height": 432
        },
        "outputId": "d6831567-d7b2-4610-bd22-2ade9cf32f55"
      },
      "outputs": [
        {
          "output_type": "stream",
          "name": "stdout",
          "text": [
            "(421, 63)\n"
          ]
        },
        {
          "output_type": "execute_result",
          "data": {
            "text/plain": [
              "           Neighborhood  Yelp  Google  Chips  Cost  Hunger  Mass (g)  \\\n",
              "Date                                                                   \n",
              "2016-01-18      Miramar   3.5     4.2      0  6.49     3.0       NaN   \n",
              "2016-01-24   San Marcos   3.5     3.3      0  5.45     3.5       NaN   \n",
              "2016-01-24          NaN   NaN     NaN      0  4.85     1.5       NaN   \n",
              "2016-01-24          NaN   NaN     NaN      0  5.25     2.0       NaN   \n",
              "2016-01-27     Carlsbad   4.0     3.8      1  6.59     4.0       NaN   \n",
              "\n",
              "            Density (g/mL)  Length  Circum  ...  Bacon  Sushi  Avocado  Corn  \\\n",
              "Date                                        ...                                \n",
              "2016-01-18             NaN     NaN     NaN  ...      0      0        0     0   \n",
              "2016-01-24             NaN     NaN     NaN  ...      0      0        0     0   \n",
              "2016-01-24             NaN     NaN     NaN  ...      0      0        0     0   \n",
              "2016-01-24             NaN     NaN     NaN  ...      0      0        0     0   \n",
              "2016-01-27             NaN     NaN     NaN  ...      0      0        0     0   \n",
              "\n",
              "            Zucchini  Great  california  asada  surf  carnitas  \n",
              "Date                                                            \n",
              "2016-01-18         0      0           1      0     0         0  \n",
              "2016-01-24         0      0           1      0     0         0  \n",
              "2016-01-24         0      0           0      0     0         1  \n",
              "2016-01-24         0      0           0      1     0         0  \n",
              "2016-01-27         0      1           1      0     0         0  \n",
              "\n",
              "[5 rows x 63 columns]"
            ],
            "text/html": [
              "\n",
              "  <div id=\"df-56f4cbeb-0719-4af9-b147-cec9aaf554d9\">\n",
              "    <div class=\"colab-df-container\">\n",
              "      <div>\n",
              "<style scoped>\n",
              "    .dataframe tbody tr th:only-of-type {\n",
              "        vertical-align: middle;\n",
              "    }\n",
              "\n",
              "    .dataframe tbody tr th {\n",
              "        vertical-align: top;\n",
              "    }\n",
              "\n",
              "    .dataframe thead th {\n",
              "        text-align: right;\n",
              "    }\n",
              "</style>\n",
              "<table border=\"1\" class=\"dataframe\">\n",
              "  <thead>\n",
              "    <tr style=\"text-align: right;\">\n",
              "      <th></th>\n",
              "      <th>Neighborhood</th>\n",
              "      <th>Yelp</th>\n",
              "      <th>Google</th>\n",
              "      <th>Chips</th>\n",
              "      <th>Cost</th>\n",
              "      <th>Hunger</th>\n",
              "      <th>Mass (g)</th>\n",
              "      <th>Density (g/mL)</th>\n",
              "      <th>Length</th>\n",
              "      <th>Circum</th>\n",
              "      <th>...</th>\n",
              "      <th>Bacon</th>\n",
              "      <th>Sushi</th>\n",
              "      <th>Avocado</th>\n",
              "      <th>Corn</th>\n",
              "      <th>Zucchini</th>\n",
              "      <th>Great</th>\n",
              "      <th>california</th>\n",
              "      <th>asada</th>\n",
              "      <th>surf</th>\n",
              "      <th>carnitas</th>\n",
              "    </tr>\n",
              "    <tr>\n",
              "      <th>Date</th>\n",
              "      <th></th>\n",
              "      <th></th>\n",
              "      <th></th>\n",
              "      <th></th>\n",
              "      <th></th>\n",
              "      <th></th>\n",
              "      <th></th>\n",
              "      <th></th>\n",
              "      <th></th>\n",
              "      <th></th>\n",
              "      <th></th>\n",
              "      <th></th>\n",
              "      <th></th>\n",
              "      <th></th>\n",
              "      <th></th>\n",
              "      <th></th>\n",
              "      <th></th>\n",
              "      <th></th>\n",
              "      <th></th>\n",
              "      <th></th>\n",
              "      <th></th>\n",
              "    </tr>\n",
              "  </thead>\n",
              "  <tbody>\n",
              "    <tr>\n",
              "      <th>2016-01-18</th>\n",
              "      <td>Miramar</td>\n",
              "      <td>3.5</td>\n",
              "      <td>4.2</td>\n",
              "      <td>0</td>\n",
              "      <td>6.49</td>\n",
              "      <td>3.0</td>\n",
              "      <td>NaN</td>\n",
              "      <td>NaN</td>\n",
              "      <td>NaN</td>\n",
              "      <td>NaN</td>\n",
              "      <td>...</td>\n",
              "      <td>0</td>\n",
              "      <td>0</td>\n",
              "      <td>0</td>\n",
              "      <td>0</td>\n",
              "      <td>0</td>\n",
              "      <td>0</td>\n",
              "      <td>1</td>\n",
              "      <td>0</td>\n",
              "      <td>0</td>\n",
              "      <td>0</td>\n",
              "    </tr>\n",
              "    <tr>\n",
              "      <th>2016-01-24</th>\n",
              "      <td>San Marcos</td>\n",
              "      <td>3.5</td>\n",
              "      <td>3.3</td>\n",
              "      <td>0</td>\n",
              "      <td>5.45</td>\n",
              "      <td>3.5</td>\n",
              "      <td>NaN</td>\n",
              "      <td>NaN</td>\n",
              "      <td>NaN</td>\n",
              "      <td>NaN</td>\n",
              "      <td>...</td>\n",
              "      <td>0</td>\n",
              "      <td>0</td>\n",
              "      <td>0</td>\n",
              "      <td>0</td>\n",
              "      <td>0</td>\n",
              "      <td>0</td>\n",
              "      <td>1</td>\n",
              "      <td>0</td>\n",
              "      <td>0</td>\n",
              "      <td>0</td>\n",
              "    </tr>\n",
              "    <tr>\n",
              "      <th>2016-01-24</th>\n",
              "      <td>NaN</td>\n",
              "      <td>NaN</td>\n",
              "      <td>NaN</td>\n",
              "      <td>0</td>\n",
              "      <td>4.85</td>\n",
              "      <td>1.5</td>\n",
              "      <td>NaN</td>\n",
              "      <td>NaN</td>\n",
              "      <td>NaN</td>\n",
              "      <td>NaN</td>\n",
              "      <td>...</td>\n",
              "      <td>0</td>\n",
              "      <td>0</td>\n",
              "      <td>0</td>\n",
              "      <td>0</td>\n",
              "      <td>0</td>\n",
              "      <td>0</td>\n",
              "      <td>0</td>\n",
              "      <td>0</td>\n",
              "      <td>0</td>\n",
              "      <td>1</td>\n",
              "    </tr>\n",
              "    <tr>\n",
              "      <th>2016-01-24</th>\n",
              "      <td>NaN</td>\n",
              "      <td>NaN</td>\n",
              "      <td>NaN</td>\n",
              "      <td>0</td>\n",
              "      <td>5.25</td>\n",
              "      <td>2.0</td>\n",
              "      <td>NaN</td>\n",
              "      <td>NaN</td>\n",
              "      <td>NaN</td>\n",
              "      <td>NaN</td>\n",
              "      <td>...</td>\n",
              "      <td>0</td>\n",
              "      <td>0</td>\n",
              "      <td>0</td>\n",
              "      <td>0</td>\n",
              "      <td>0</td>\n",
              "      <td>0</td>\n",
              "      <td>0</td>\n",
              "      <td>1</td>\n",
              "      <td>0</td>\n",
              "      <td>0</td>\n",
              "    </tr>\n",
              "    <tr>\n",
              "      <th>2016-01-27</th>\n",
              "      <td>Carlsbad</td>\n",
              "      <td>4.0</td>\n",
              "      <td>3.8</td>\n",
              "      <td>1</td>\n",
              "      <td>6.59</td>\n",
              "      <td>4.0</td>\n",
              "      <td>NaN</td>\n",
              "      <td>NaN</td>\n",
              "      <td>NaN</td>\n",
              "      <td>NaN</td>\n",
              "      <td>...</td>\n",
              "      <td>0</td>\n",
              "      <td>0</td>\n",
              "      <td>0</td>\n",
              "      <td>0</td>\n",
              "      <td>0</td>\n",
              "      <td>1</td>\n",
              "      <td>1</td>\n",
              "      <td>0</td>\n",
              "      <td>0</td>\n",
              "      <td>0</td>\n",
              "    </tr>\n",
              "  </tbody>\n",
              "</table>\n",
              "<p>5 rows × 63 columns</p>\n",
              "</div>\n",
              "      <button class=\"colab-df-convert\" onclick=\"convertToInteractive('df-56f4cbeb-0719-4af9-b147-cec9aaf554d9')\"\n",
              "              title=\"Convert this dataframe to an interactive table.\"\n",
              "              style=\"display:none;\">\n",
              "        \n",
              "  <svg xmlns=\"http://www.w3.org/2000/svg\" height=\"24px\"viewBox=\"0 0 24 24\"\n",
              "       width=\"24px\">\n",
              "    <path d=\"M0 0h24v24H0V0z\" fill=\"none\"/>\n",
              "    <path d=\"M18.56 5.44l.94 2.06.94-2.06 2.06-.94-2.06-.94-.94-2.06-.94 2.06-2.06.94zm-11 1L8.5 8.5l.94-2.06 2.06-.94-2.06-.94L8.5 2.5l-.94 2.06-2.06.94zm10 10l.94 2.06.94-2.06 2.06-.94-2.06-.94-.94-2.06-.94 2.06-2.06.94z\"/><path d=\"M17.41 7.96l-1.37-1.37c-.4-.4-.92-.59-1.43-.59-.52 0-1.04.2-1.43.59L10.3 9.45l-7.72 7.72c-.78.78-.78 2.05 0 2.83L4 21.41c.39.39.9.59 1.41.59.51 0 1.02-.2 1.41-.59l7.78-7.78 2.81-2.81c.8-.78.8-2.07 0-2.86zM5.41 20L4 18.59l7.72-7.72 1.47 1.35L5.41 20z\"/>\n",
              "  </svg>\n",
              "      </button>\n",
              "      \n",
              "  <style>\n",
              "    .colab-df-container {\n",
              "      display:flex;\n",
              "      flex-wrap:wrap;\n",
              "      gap: 12px;\n",
              "    }\n",
              "\n",
              "    .colab-df-convert {\n",
              "      background-color: #E8F0FE;\n",
              "      border: none;\n",
              "      border-radius: 50%;\n",
              "      cursor: pointer;\n",
              "      display: none;\n",
              "      fill: #1967D2;\n",
              "      height: 32px;\n",
              "      padding: 0 0 0 0;\n",
              "      width: 32px;\n",
              "    }\n",
              "\n",
              "    .colab-df-convert:hover {\n",
              "      background-color: #E2EBFA;\n",
              "      box-shadow: 0px 1px 2px rgba(60, 64, 67, 0.3), 0px 1px 3px 1px rgba(60, 64, 67, 0.15);\n",
              "      fill: #174EA6;\n",
              "    }\n",
              "\n",
              "    [theme=dark] .colab-df-convert {\n",
              "      background-color: #3B4455;\n",
              "      fill: #D2E3FC;\n",
              "    }\n",
              "\n",
              "    [theme=dark] .colab-df-convert:hover {\n",
              "      background-color: #434B5C;\n",
              "      box-shadow: 0px 1px 3px 1px rgba(0, 0, 0, 0.15);\n",
              "      filter: drop-shadow(0px 1px 2px rgba(0, 0, 0, 0.3));\n",
              "      fill: #FFFFFF;\n",
              "    }\n",
              "  </style>\n",
              "\n",
              "      <script>\n",
              "        const buttonEl =\n",
              "          document.querySelector('#df-56f4cbeb-0719-4af9-b147-cec9aaf554d9 button.colab-df-convert');\n",
              "        buttonEl.style.display =\n",
              "          google.colab.kernel.accessAllowed ? 'block' : 'none';\n",
              "\n",
              "        async function convertToInteractive(key) {\n",
              "          const element = document.querySelector('#df-56f4cbeb-0719-4af9-b147-cec9aaf554d9');\n",
              "          const dataTable =\n",
              "            await google.colab.kernel.invokeFunction('convertToInteractive',\n",
              "                                                     [key], {});\n",
              "          if (!dataTable) return;\n",
              "\n",
              "          const docLinkHtml = 'Like what you see? Visit the ' +\n",
              "            '<a target=\"_blank\" href=https://colab.research.google.com/notebooks/data_table.ipynb>data table notebook</a>'\n",
              "            + ' to learn more about interactive tables.';\n",
              "          element.innerHTML = '';\n",
              "          dataTable['output_type'] = 'display_data';\n",
              "          await google.colab.output.renderOutput(dataTable, element);\n",
              "          const docLink = document.createElement('div');\n",
              "          docLink.innerHTML = docLinkHtml;\n",
              "          element.appendChild(docLink);\n",
              "        }\n",
              "      </script>\n",
              "    </div>\n",
              "  </div>\n",
              "  "
            ]
          },
          "metadata": {},
          "execution_count": 6
        }
      ],
      "source": [
        "# Conduct your exploratory data analysis here\n",
        "# And modify the `wrangle` function above.\n",
        "\n",
        "# Print the first five rows of dataset and its shape\n",
        "print(df.shape)\n",
        "df.head()"
      ]
    },
    {
      "cell_type": "code",
      "source": [
        "# Check data types and null values\n",
        "df.info()"
      ],
      "metadata": {
        "colab": {
          "base_uri": "https://localhost:8080/"
        },
        "id": "SAKjRPCgpKIe",
        "outputId": "0bee5ce1-bea4-457e-d6f2-fae416362084"
      },
      "execution_count": 7,
      "outputs": [
        {
          "output_type": "stream",
          "name": "stdout",
          "text": [
            "<class 'pandas.core.frame.DataFrame'>\n",
            "DatetimeIndex: 421 entries, 2016-01-18 to 2019-08-27\n",
            "Data columns (total 63 columns):\n",
            " #   Column          Non-Null Count  Dtype  \n",
            "---  ------          --------------  -----  \n",
            " 0   Neighborhood    92 non-null     object \n",
            " 1   Yelp            87 non-null     float64\n",
            " 2   Google          87 non-null     float64\n",
            " 3   Chips           421 non-null    int64  \n",
            " 4   Cost            414 non-null    float64\n",
            " 5   Hunger          418 non-null    float64\n",
            " 6   Mass (g)        22 non-null     float64\n",
            " 7   Density (g/mL)  22 non-null     float64\n",
            " 8   Length          283 non-null    float64\n",
            " 9   Circum          281 non-null    float64\n",
            " 10  Volume          281 non-null    float64\n",
            " 11  Tortilla        421 non-null    float64\n",
            " 12  Temp            401 non-null    float64\n",
            " 13  Meat            407 non-null    float64\n",
            " 14  Fillings        418 non-null    float64\n",
            " 15  Meat:filling    412 non-null    float64\n",
            " 16  Uniformity      419 non-null    float64\n",
            " 17  Salsa           396 non-null    float64\n",
            " 18  Synergy         419 non-null    float64\n",
            " 19  Wrap            418 non-null    float64\n",
            " 20  Reviewer        420 non-null    object \n",
            " 21  Unreliable      33 non-null     object \n",
            " 22  NonSD           421 non-null    int64  \n",
            " 23  Beef            421 non-null    int64  \n",
            " 24  Pico            421 non-null    int64  \n",
            " 25  Guac            421 non-null    int64  \n",
            " 26  Cheese          421 non-null    int64  \n",
            " 27  Fries           421 non-null    int64  \n",
            " 28  Sour cream      421 non-null    int64  \n",
            " 29  Pork            421 non-null    int64  \n",
            " 30  Chicken         421 non-null    int64  \n",
            " 31  Shrimp          421 non-null    int64  \n",
            " 32  Fish            421 non-null    int64  \n",
            " 33  Rice            421 non-null    int64  \n",
            " 34  Beans           421 non-null    int64  \n",
            " 35  Lettuce         421 non-null    int64  \n",
            " 36  Tomato          421 non-null    int64  \n",
            " 37  Bell peper      421 non-null    int64  \n",
            " 38  Carrots         421 non-null    int64  \n",
            " 39  Cabbage         421 non-null    int64  \n",
            " 40  Sauce           421 non-null    int64  \n",
            " 41  Salsa.1         421 non-null    int64  \n",
            " 42  Cilantro        421 non-null    int64  \n",
            " 43  Onion           421 non-null    int64  \n",
            " 44  Taquito         421 non-null    int64  \n",
            " 45  Pineapple       421 non-null    int64  \n",
            " 46  Ham             421 non-null    int64  \n",
            " 47  Chile relleno   421 non-null    int64  \n",
            " 48  Nopales         421 non-null    int64  \n",
            " 49  Lobster         421 non-null    int64  \n",
            " 50  Queso           421 non-null    int64  \n",
            " 51  Egg             421 non-null    int64  \n",
            " 52  Mushroom        421 non-null    int64  \n",
            " 53  Bacon           421 non-null    int64  \n",
            " 54  Sushi           421 non-null    int64  \n",
            " 55  Avocado         421 non-null    int64  \n",
            " 56  Corn            421 non-null    int64  \n",
            " 57  Zucchini        421 non-null    int64  \n",
            " 58  Great           421 non-null    int64  \n",
            " 59  california      421 non-null    int64  \n",
            " 60  asada           421 non-null    int64  \n",
            " 61  surf            421 non-null    int64  \n",
            " 62  carnitas        421 non-null    int64  \n",
            "dtypes: float64(18), int64(42), object(3)\n",
            "memory usage: 210.5+ KB\n"
          ]
        }
      ]
    },
    {
      "cell_type": "code",
      "source": [
        "# Check values for 'beef' feature\n",
        "df['Beef'].head()"
      ],
      "metadata": {
        "colab": {
          "base_uri": "https://localhost:8080/"
        },
        "id": "Ij859aQ_pjBa",
        "outputId": "96a5c15c-6f59-4106-ed4c-255563aba73c"
      },
      "execution_count": 8,
      "outputs": [
        {
          "output_type": "execute_result",
          "data": {
            "text/plain": [
              "Date\n",
              "2016-01-18    1\n",
              "2016-01-24    1\n",
              "2016-01-24    0\n",
              "2016-01-24    1\n",
              "2016-01-27    1\n",
              "Name: Beef, dtype: int64"
            ]
          },
          "metadata": {},
          "execution_count": 8
        }
      ]
    },
    {
      "cell_type": "code",
      "source": [
        "df['Beef'].value_counts()"
      ],
      "metadata": {
        "colab": {
          "base_uri": "https://localhost:8080/"
        },
        "id": "nK083DmQvSgQ",
        "outputId": "9e9fc732-5659-4a26-fbc4-cb6960e6a1c5"
      },
      "execution_count": 9,
      "outputs": [
        {
          "output_type": "execute_result",
          "data": {
            "text/plain": [
              "0    242\n",
              "1    179\n",
              "Name: Beef, dtype: int64"
            ]
          },
          "metadata": {},
          "execution_count": 9
        }
      ]
    },
    {
      "cell_type": "code",
      "source": [
        "# Check columns that could potentially be binary encoded\n",
        "# df.select_dtypes('object').info()"
      ],
      "metadata": {
        "id": "WuG0ODznyMzC"
      },
      "execution_count": 10,
      "outputs": []
    },
    {
      "cell_type": "code",
      "source": [
        "# We want all the columns from 22 to up to but not including the last column + chips\n",
        "# df.iloc[:, 22:-1].head().columns"
      ],
      "metadata": {
        "id": "0nvauf0JzXjW"
      },
      "execution_count": 11,
      "outputs": []
    },
    {
      "cell_type": "code",
      "source": [
        "# Columns we need to change\n",
        "# binary_cols = ['NonSD', 'Beef', 'Pico', 'Guac', 'Cheese', 'Fries', 'Sour cream',\n",
        "#               'Pork', 'Chicken', 'Shrimp', 'Fish', 'Rice', 'Beans', 'Lettuce',\n",
        "#               'Tomato', 'Bell peper', 'Carrots', 'Cabbage', 'Sauce', 'Salsa.1',\n",
        "#               'Cilantro', 'Onion', 'Taquito', 'Pineapple', 'Ham', 'Chile relleno',\n",
        "#               'Nopales', 'Lobster', 'Queso', 'Egg', 'Mushroom', 'Bacon', 'Sushi',\n",
        "#               'Avocado', 'Corn', 'Zucchini', 'Chips']"
      ],
      "metadata": {
        "id": "3Qdkqbw-zu-c"
      },
      "execution_count": 12,
      "outputs": []
    },
    {
      "cell_type": "code",
      "source": [
        "# Total null values\n",
        "print('Total Null Values:',df.isna().sum().sum())\n",
        "df.isna().sum()"
      ],
      "metadata": {
        "colab": {
          "base_uri": "https://localhost:8080/"
        },
        "id": "bWb-XSS0qK7c",
        "outputId": "15f9f148-c594-4a75-cd35-faca52ebe9a6"
      },
      "execution_count": 13,
      "outputs": [
        {
          "output_type": "stream",
          "name": "stdout",
          "text": [
            "Total Null Values: 2690\n"
          ]
        },
        {
          "output_type": "execute_result",
          "data": {
            "text/plain": [
              "Neighborhood    329\n",
              "Yelp            334\n",
              "Google          334\n",
              "Chips             0\n",
              "Cost              7\n",
              "               ... \n",
              "Great             0\n",
              "california        0\n",
              "asada             0\n",
              "surf              0\n",
              "carnitas          0\n",
              "Length: 63, dtype: int64"
            ]
          },
          "metadata": {},
          "execution_count": 13
        }
      ]
    },
    {
      "cell_type": "code",
      "source": [
        "# df['Beef'].apply(lambda x:1 if type(x)== str else 0).head(10)"
      ],
      "metadata": {
        "id": "Q4urPs4A0s1d"
      },
      "execution_count": 14,
      "outputs": []
    },
    {
      "cell_type": "code",
      "source": [
        "# Process to transform binary columns from string and null values to 0 and 1 (boolean)\n",
        "# df[binary_cols].applymap(lambda x:1 if type(x)== str else 0).head(10)"
      ],
      "metadata": {
        "id": "0uP56GK11RYr"
      },
      "execution_count": 15,
      "outputs": []
    },
    {
      "cell_type": "markdown",
      "metadata": {
        "id": "soyKEL9Ohfm1"
      },
      "source": [
        "If you explore the `'Burrito'` column of `df`, you'll notice that it's a high-cardinality categorical feature. You'll also notice that there's a lot of overlap between the categories. \n",
        "\n",
        "**Stretch Goal:** Change the `wrangle` function above so that it engineers four new features: `'california'`, `'asada'`, `'surf'`, and `'carnitas'`. Each row should have a `1` or `0` based on the text information in the `'Burrito'` column. For example, here's how the first 5 rows of the dataset would look.\n",
        "\n",
        "| **Burrito** | **california** | **asada** | **surf** | **carnitas** |\n",
        "| :---------- | :------------: | :-------: | :------: | :----------: |\n",
        "| California  |       1        |     0     |    0     |      0       |\n",
        "| California  |       1        |     0     |    0     |      0       |\n",
        "|  Carnitas   |       0        |     0     |    0     |      1       |\n",
        "| Carne asada |       0        |     1     |    0     |      0       |\n",
        "| California  |       1        |     0     |    0     |      0       |\n",
        "\n",
        "**Note:** Be sure to also drop the `'Burrito'` once you've engineered your new features."
      ]
    },
    {
      "cell_type": "code",
      "execution_count": 17,
      "metadata": {
        "id": "xC4GMI7zhfm1"
      },
      "outputs": [],
      "source": [
        "# Conduct your exploratory data analysis here\n",
        "# And modify the `wrangle` function above.\n",
        "\n",
        "# Check Burrito feature for high cardinality\n",
        "# df['Burrito'].nunique()\n",
        "# df['Burrito'].head(10)"
      ]
    },
    {
      "cell_type": "code",
      "source": [
        "# Feature Engineering\n",
        "# burrito_type = ['california', 'asada', 'surf', 'carnitas']\n",
        "# # df['Burrito'].str.lower().str.contains(burrito_type[0]).astype(int).head(10)\n",
        "\n",
        "# for b in burrito_type:\n",
        "#   df[b] = df['Burrito'].str.lower().str.contains(b).astype(int)\n",
        "\n",
        "# df[['california', 'asada', 'surf', 'carnitas']].head()"
      ],
      "metadata": {
        "id": "rR3k-hjzL2Xg"
      },
      "execution_count": 18,
      "outputs": []
    },
    {
      "cell_type": "markdown",
      "metadata": {
        "id": "aCwb4JtDhfm1"
      },
      "source": [
        "# II. Split Data\n",
        "\n",
        "**Task 3:** Split your dataset into the feature matrix `X` and the target vector `y`. You want to predict `'Great'`."
      ]
    },
    {
      "cell_type": "code",
      "execution_count": 19,
      "metadata": {
        "id": "sQLzXY3-hfm2"
      },
      "outputs": [],
      "source": [
        "target = 'Great'\n",
        "X = df.drop(columns=target)\n",
        "y = df[target]"
      ]
    },
    {
      "cell_type": "code",
      "source": [
        "# Check shape of the feature matrix and target vector\n",
        "X.shape, y.shape #X is 2D, y is 1D"
      ],
      "metadata": {
        "colab": {
          "base_uri": "https://localhost:8080/"
        },
        "id": "LiaTCMWAOy0W",
        "outputId": "0b39174d-7a3f-4dd8-ffa4-8ce7e4d040ed"
      },
      "execution_count": 20,
      "outputs": [
        {
          "output_type": "execute_result",
          "data": {
            "text/plain": [
              "((421, 62), (421,))"
            ]
          },
          "metadata": {},
          "execution_count": 20
        }
      ]
    },
    {
      "cell_type": "markdown",
      "metadata": {
        "id": "TOrhqBs4hfm2"
      },
      "source": [
        "**Task 4:** Split `X` and `y` into a training set (`X_train`, `y_train`) and a test set (`X_test`, `y_test`).\n",
        "\n",
        "- Your training set should include data from 2016 through 2017. \n",
        "- Your test set should include data from 2018 and later."
      ]
    },
    {
      "cell_type": "code",
      "execution_count": 21,
      "metadata": {
        "id": "LNmhJxk1hfm2"
      },
      "outputs": [],
      "source": [
        "cutoff = '2018-01-01'\n",
        "mask = X.index < cutoff\n",
        "\n",
        "X_train, y_train =  X.loc[mask], y.loc[mask]\n",
        "X_test, y_test = X.loc[~mask], y.loc[~mask] #invert the mask"
      ]
    },
    {
      "cell_type": "code",
      "source": [
        "# Sanity check\n",
        "assert len(X_train) + len(X_test) == len(X)\n"
      ],
      "metadata": {
        "id": "avscig2bQEMf"
      },
      "execution_count": 22,
      "outputs": []
    },
    {
      "cell_type": "markdown",
      "metadata": {
        "id": "YfgGtdf9hfm3"
      },
      "source": [
        "# III. Establish Baseline\n",
        "\n",
        "**Task 5:** Since this is a **classification** problem, you should establish a baseline accuracy score. Figure out what is the majority class in `y_train` and what percentage of your training observations it represents. "
      ]
    },
    {
      "cell_type": "code",
      "execution_count": 23,
      "metadata": {
        "id": "4s5TNg0shfm3",
        "colab": {
          "base_uri": "https://localhost:8080/"
        },
        "outputId": "816fdf28-908c-4843-e487-5ed60acd66d1"
      },
      "outputs": [
        {
          "output_type": "stream",
          "name": "stdout",
          "text": [
            "Baseline Accuracy Score: 0.5822454308093995\n"
          ]
        }
      ],
      "source": [
        "baseline_acc = y_train.value_counts(normalize=True).max() # majority class\n",
        "print('Baseline Accuracy Score:', baseline_acc)"
      ]
    },
    {
      "cell_type": "markdown",
      "source": [
        "**Insights:** 58% of the burritos in this study are not great. This means that if we guess not great every time we eat a burrito or predict not great, we will be right arounfd 58% of the time."
      ],
      "metadata": {
        "id": "cXvru5symV5O"
      }
    },
    {
      "cell_type": "markdown",
      "metadata": {
        "id": "Gn2CGj-rhfm3"
      },
      "source": [
        "# IV. Build Model\n",
        "\n",
        "**Task 6:** Build a `Pipeline` named `model_logr`, and fit it to your training data. Your pipeline should include:\n",
        "\n",
        "- a `OneHotEncoder` transformer for categorical features, \n",
        "- a `SimpleImputer` transformer to deal with missing values, \n",
        "- a [`StandarScaler`](https://scikit-learn.org/stable/modules/generated/sklearn.preprocessing.StandardScaler.html) transfomer (which often improves performance in a logistic regression model), and \n",
        "- a `LogisticRegression` predictor."
      ]
    },
    {
      "cell_type": "code",
      "execution_count": 24,
      "metadata": {
        "id": "FUQj6MDghfm4",
        "colab": {
          "base_uri": "https://localhost:8080/"
        },
        "outputId": "cccd1e98-f7a5-4c0b-869f-591e7af53946"
      },
      "outputs": [
        {
          "output_type": "execute_result",
          "data": {
            "text/plain": [
              "Pipeline(steps=[('onehotencoder',\n",
              "                 OneHotEncoder(cols=['Neighborhood', 'Reviewer', 'Unreliable'],\n",
              "                               use_cat_names=True)),\n",
              "                ('simpleimputer', SimpleImputer()),\n",
              "                ('standardscaler', StandardScaler()),\n",
              "                ('logisticregression', LogisticRegression())])"
            ]
          },
          "metadata": {},
          "execution_count": 24
        }
      ],
      "source": [
        "# Build pipeline\n",
        "model_logr = make_pipeline(\n",
        "    OneHotEncoder(use_cat_names=True),\n",
        "    SimpleImputer(strategy='mean'),\n",
        "    StandardScaler(),\n",
        "    LogisticRegression()\n",
        "    )\n",
        "\n",
        "# Fit model to the training data\n",
        "model_logr.fit(X_train, y_train)"
      ]
    },
    {
      "cell_type": "markdown",
      "metadata": {
        "id": "kssdv4vohfm4"
      },
      "source": [
        "# IV. Check Metrics\n",
        "\n",
        "**Task 7:** Calculate the training and test accuracy score for `model_lr`."
      ]
    },
    {
      "cell_type": "code",
      "execution_count": 25,
      "metadata": {
        "id": "NKggsrgxhfm4",
        "colab": {
          "base_uri": "https://localhost:8080/"
        },
        "outputId": "bad15796-3992-4172-d6c0-306c1667d83c"
      },
      "outputs": [
        {
          "output_type": "stream",
          "name": "stdout",
          "text": [
            "Training MAE: 0.97911227154047\n",
            "Test MAE: 0.7894736842105263\n"
          ]
        }
      ],
      "source": [
        "training_acc = model_logr.score(X_train, y_train)\n",
        "test_acc = model_logr.score(X_test, y_test)\n",
        "\n",
        "print('Training MAE:', training_acc)\n",
        "print('Test MAE:', test_acc)"
      ]
    },
    {
      "cell_type": "markdown",
      "source": [
        "**Insights:** The training accuracy is really good at 0.97, but the test accuracy is not as good at 0.79. The model has good performance and is beating the baseline however, it's not generalizing very well."
      ],
      "metadata": {
        "id": "NSRi8b6AnPX0"
      }
    },
    {
      "cell_type": "markdown",
      "metadata": {
        "id": "ys1cQIn6hfm4"
      },
      "source": [
        "# V. Communicate Results\n",
        "\n",
        "**Task 8:** Create a horizontal barchart that plots the 10 most important coefficients for `model_lr`, sorted by absolute value.\n",
        "\n",
        "**Note:** Since you created your model using a `Pipeline`, you'll need to use the [`named_steps`](https://scikit-learn.org/stable/modules/generated/sklearn.pipeline.Pipeline.html) attribute to access the coefficients in your `LogisticRegression` predictor. Be sure to look at the shape of the coefficients array before you combine it with the feature names."
      ]
    },
    {
      "cell_type": "code",
      "execution_count": 26,
      "metadata": {
        "id": "ZXPCmQbmhfm5",
        "colab": {
          "base_uri": "https://localhost:8080/"
        },
        "outputId": "d9942b8c-02ea-4b02-854b-ae48a31ded04"
      },
      "outputs": [
        {
          "output_type": "execute_result",
          "data": {
            "text/plain": [
              "array([ 9.77976394e-02, -2.73913262e-01, -6.22782322e-02,  1.10676621e-01,\n",
              "        4.54389005e-01,  1.58499276e-02, -1.53627222e-01,  9.38795909e-02,\n",
              "        4.21065873e-01,  5.97207248e-01,  1.62186386e-01, -6.30011752e-02,\n",
              "       -2.87040573e-03,  2.02587449e-01, -3.61316347e-03, -3.66965699e-02,\n",
              "        9.62162264e-02,  1.36538303e-01, -3.36397467e-01,  3.97151693e-01,\n",
              "       -3.21483180e-03, -2.54774833e-01, -8.57161273e-02, -4.17885747e-01,\n",
              "       -1.90490133e-01,  4.89892769e-03,  2.60462910e-05,  2.72037574e-01,\n",
              "       -4.76844773e-04, -4.05144866e-02, -2.87431374e-01, -6.73482252e-03,\n",
              "       -5.74610466e-03,  7.31677116e-02, -5.97916424e-03,  2.20529964e-02,\n",
              "       -3.56126607e-05, -5.80095460e-03, -2.06620543e-02, -5.11068056e-02,\n",
              "       -5.27113721e-02,  6.93213523e-01, -7.93637262e-01, -1.27942619e-01,\n",
              "        5.61837572e-01, -6.49453758e-02, -5.03974894e-01,  1.43696619e-01,\n",
              "        2.44211024e-01, -1.16498700e-01, -3.18503999e-01,  5.61249218e-01,\n",
              "        9.66987591e-01,  1.74240513e+00,  1.79778652e+00,  9.73416272e-01,\n",
              "       -2.33019654e-01,  5.92128905e-01,  2.31683907e+00, -3.93809268e-01,\n",
              "       -3.48738889e-01, -1.10012242e-01,  4.83933745e-02,  3.14547903e-02,\n",
              "       -3.90641015e-05,  3.13978425e-01, -1.60450752e-03,  4.22542661e-02,\n",
              "       -6.79771711e-02, -4.50491844e-01, -2.10646428e-01, -4.71660705e-02,\n",
              "       -7.55743852e-02, -2.35666338e-01, -2.58376775e-01,  2.29777033e-02,\n",
              "        2.05552403e-01,  1.64259344e-01, -1.46163519e-01,  2.92234265e-01,\n",
              "       -1.29450754e-01,  1.18533261e-05,  1.26495275e-02, -2.73083889e-01,\n",
              "        9.73597865e-01,  6.51875586e-02,  1.26131836e-03, -3.36607078e-01,\n",
              "        3.39224478e-01,  1.06774127e-01,  1.02873739e-01,  1.48222603e-01,\n",
              "        1.95150964e-01,  1.67933929e-01, -1.24867966e-05,  2.70406306e-05,\n",
              "        2.79239410e-01,  1.36798444e-03, -1.36690096e-01,  3.05726395e-05,\n",
              "        3.68683846e-02,  2.04440722e-03,  2.90612305e-01,  1.26631033e-04,\n",
              "        1.57515222e-01,  3.24849814e-04,  1.13415320e-04, -1.93600796e-01,\n",
              "       -1.60100160e-01,  2.35200179e-01, -3.18211380e-02, -1.35203927e-02,\n",
              "        5.36296146e-02,  7.20441161e-03,  2.88456049e-01,  2.54280220e-02,\n",
              "       -1.25762163e-01, -4.10939527e-04, -9.86335374e-02, -8.35522758e-02,\n",
              "        2.07573820e-01, -1.97199216e-01, -1.12346358e-02,  2.63077962e-05,\n",
              "       -1.10530957e-01,  2.16459442e-01, -1.66536532e-01, -3.74205100e-03,\n",
              "        1.10321364e-01, -5.41189427e-02, -4.01342200e-03, -1.03882425e-01,\n",
              "       -1.98292167e-01,  8.65330305e-02,  3.51191313e-01,  1.13313032e-04,\n",
              "        8.40556659e-04,  2.83222714e-01,  3.17017327e-02, -9.71295224e-04,\n",
              "       -1.09705956e-01,  1.35180772e-03,  3.11906903e-03,  1.64020946e-01,\n",
              "        2.03053686e-01,  1.01360008e-01,  2.88648780e-01, -1.22034955e-01,\n",
              "        2.43736297e-05,  2.09767948e-02, -2.40864495e-02,  7.28454768e-02,\n",
              "        2.33716969e-05,  1.86370033e-01, -1.86370033e-01, -5.00799215e-02,\n",
              "       -2.96256532e-01, -2.25946563e-01,  3.46899038e-01,  2.63252623e-01,\n",
              "       -4.74585143e-01, -1.36343700e-03,  4.62832930e-01,  2.25003655e-01,\n",
              "       -5.04716633e-02, -1.48375836e-01,  1.46121988e-01, -6.17634349e-01,\n",
              "       -2.88407506e-01, -2.70188420e-01, -1.90274705e-01, -7.96888866e-04,\n",
              "       -7.39929336e-02, -2.24782800e-01, -1.82725394e-01,  1.94955492e-01,\n",
              "        4.10525242e-02, -2.07184875e-01, -4.77533821e-01,  1.62186386e-01,\n",
              "        2.74386473e-01,  1.49469575e-01, -5.11950749e-03,  0.00000000e+00,\n",
              "        5.37934543e-03,  4.47819353e-02,  3.11970614e-01,  1.65741864e-01,\n",
              "       -1.73659207e-01, -3.37166074e-01,  1.24493914e-01,  6.77490867e-01,\n",
              "        2.17730521e-01,  3.21205109e-01,  7.40838011e-02])"
            ]
          },
          "metadata": {},
          "execution_count": 26
        }
      ],
      "source": [
        "# Create your horizontal barchart here.\n",
        "coefficients = model_logr.named_steps['logisticregression'].coef_[0]\n",
        "coefficients"
      ]
    },
    {
      "cell_type": "code",
      "source": [
        "features = model_logr.named_steps['onehotencoder'].get_feature_names()\n",
        "feat_imp = pd.Series(coefficients, index=features).sort_values(key=abs)\n",
        "feat_imp.tail(10).plot(kind='barh')\n",
        "plt.xlabel('Coefficient')\n",
        "plt.ylabel('Feature')\n",
        "plt.title('Feature Importance');"
      ],
      "metadata": {
        "colab": {
          "base_uri": "https://localhost:8080/",
          "height": 295
        },
        "id": "-JMG-rOdWEVb",
        "outputId": "ca70389e-4f7b-45b0-a4cd-b93d6f0cc59d"
      },
      "execution_count": 27,
      "outputs": [
        {
          "output_type": "display_data",
          "data": {
            "text/plain": [
              "<Figure size 432x288 with 1 Axes>"
            ],
            "image/png": "[encoded data removed]"
          },
          "metadata": {
            "needs_background": "light"
          }
        }
      ]
    },
    {
      "cell_type": "markdown",
      "source": [
        "**Insights:**\n",
        "- We can see that the most important feature is synergy. \n",
        "- It seems that as Google rating increases, the quality of the burrito decreases.\n",
        "- Elynn seems to improve the greatness of a burrito, which tells us that maybe Eileen is a little bit of a biased reviewer.\n"
      ],
      "metadata": {
        "id": "t_Up8hNipJMb"
      }
    },
    {
      "cell_type": "markdown",
      "metadata": {
        "id": "Mx24CXNghfm5"
      },
      "source": [
        "There is more than one way to generate predictions with `model_lr`. For instance, you can use [`predict`](https://scikit-learn.org/stable/modules/generated/sklearn.linear_model.LogisticRegression.html?highlight=logisticregression) or [`predict_proba`](https://scikit-learn.org/stable/modules/generated/sklearn.linear_model.LogisticRegression.html?highlight=logisticregression#sklearn.linear_model.LogisticRegression.predict_proba).\n",
        "\n",
        "**Task 9:** Generate predictions for `X_test` using both `predict` and `predict_proba`. Then below, write a summary of the differences in the output for these two methods. You should answer the following questions:\n",
        "\n",
        "- What data type do `predict` and `predict_proba` output? \n",
        "- What are the shapes of their different output? predict =\n",
        "- What numerical values are in the output? \n",
        "- What do those numerical values represent? "
      ]
    },
    {
      "cell_type": "code",
      "execution_count": 28,
      "metadata": {
        "id": "mivQev9phfm5",
        "colab": {
          "base_uri": "https://localhost:8080/"
        },
        "outputId": "4e6ea978-82e3-4fd1-d6ac-ef6e491bb97b"
      },
      "outputs": [
        {
          "output_type": "stream",
          "name": "stdout",
          "text": [
            "[1 1 0 1 0 0 1 1 1 1 1 0 0 1 1 1 1 0 0 0 0 1 0 1 1 0 0 1 1 1 0 1 1 0 1 1 1\n",
            " 1]\n"
          ]
        }
      ],
      "source": [
        "# Write code here to explore the differences between `predict` and `predict_proba`.\n",
        "y_pred = model_logr.predict(X_test)\n",
        "print(y_pred)"
      ]
    },
    {
      "cell_type": "code",
      "source": [
        "# predict shape\n",
        "y_pred.shape"
      ],
      "metadata": {
        "colab": {
          "base_uri": "https://localhost:8080/"
        },
        "id": "Kxsr4u4AbXp9",
        "outputId": "1f698ca8-8eac-42e5-f2dc-49cb0711fe8b"
      },
      "execution_count": 29,
      "outputs": [
        {
          "output_type": "execute_result",
          "data": {
            "text/plain": [
              "(38,)"
            ]
          },
          "metadata": {},
          "execution_count": 29
        }
      ]
    },
    {
      "cell_type": "code",
      "source": [
        "# predict data type\n",
        "y_pred.dtype"
      ],
      "metadata": {
        "colab": {
          "base_uri": "https://localhost:8080/"
        },
        "id": "BlQEsa07b7BK",
        "outputId": "81e7d3fa-7a76-46f1-e652-dc58fff5a296"
      },
      "execution_count": 35,
      "outputs": [
        {
          "output_type": "execute_result",
          "data": {
            "text/plain": [
              "dtype('int64')"
            ]
          },
          "metadata": {},
          "execution_count": 35
        }
      ]
    },
    {
      "cell_type": "code",
      "source": [
        "y_pred_prob = np.round(model_logr.predict_proba(X_test)[:, -1], 2)\n",
        "print(y_pred_prob)"
      ],
      "metadata": {
        "colab": {
          "base_uri": "https://localhost:8080/"
        },
        "id": "gVHlomElaoZj",
        "outputId": "41f622b5-6429-4085-fbd6-56c959613fab"
      },
      "execution_count": 33,
      "outputs": [
        {
          "output_type": "stream",
          "name": "stdout",
          "text": [
            "[1.   1.   0.01 1.   0.   0.14 0.98 1.   1.   0.93 0.69 0.   0.44 0.61\n",
            " 0.99 0.98 0.95 0.   0.01 0.   0.   0.99 0.05 0.93 0.68 0.19 0.   1.\n",
            " 0.93 1.   0.01 0.92 0.99 0.   0.69 0.83 1.   0.99]\n"
          ]
        }
      ]
    },
    {
      "cell_type": "code",
      "source": [
        "# predict_prob shape\n",
        "y_pred_prob.shape"
      ],
      "metadata": {
        "colab": {
          "base_uri": "https://localhost:8080/"
        },
        "id": "qzok2QMrbaXQ",
        "outputId": "81e105db-d6c3-4177-a21d-10f7ac503183"
      },
      "execution_count": 34,
      "outputs": [
        {
          "output_type": "execute_result",
          "data": {
            "text/plain": [
              "(38,)"
            ]
          },
          "metadata": {},
          "execution_count": 34
        }
      ]
    },
    {
      "cell_type": "code",
      "source": [
        "# predict_prob data type\n",
        "y_pred_prob.dtype"
      ],
      "metadata": {
        "colab": {
          "base_uri": "https://localhost:8080/"
        },
        "id": "Ia76aXczcNOM",
        "outputId": "a26823ef-9714-4f91-a657-db64a37446f3"
      },
      "execution_count": 36,
      "outputs": [
        {
          "output_type": "execute_result",
          "data": {
            "text/plain": [
              "dtype('float64')"
            ]
          },
          "metadata": {},
          "execution_count": 36
        }
      ]
    },
    {
      "cell_type": "markdown",
      "metadata": {
        "id": "XxGqV_9zhfm5"
      },
      "source": [
        "**Give your written answer here:**\n",
        "\n",
        "- What data type do `predict` and `predict_proba` output? \n",
        "\n",
        "  **Answer:** Both `predict` and `predict_proba`are arrays.\n",
        "\n",
        "- What are the shapes of their different output?\n",
        "\n",
        "  **Answer:** `predict` is a one-dimensional array ; `predict_proba` is a two-dimensional array.\n",
        "\n",
        "- What numerical values are in the output? \n",
        "\n",
        "  **Answer:** `predict` values are integers, while `predict_proba` values are floats.\n",
        "\n",
        "- What do those numerical values represent? \n",
        "\n",
        "  **Answer:** `predict` represents whether or not a burrito is great and,\n",
        "`predict_proba` represents the model's degree of certainty that a burrito is great."
      ]
    }
  ],
  "metadata": {
    "colab": {
      "collapsed_sections": [],
      "provenance": []
    },
    "kernelspec": {
      "display_name": "Python 3",
      "language": "python",
      "name": "python3"
    },
    "language_info": {
      "codemirror_mode": {
        "name": "ipython",
        "version": 3
      },
      "file_extension": ".py",
      "mimetype": "text/x-python",
      "name": "python",
      "nbconvert_exporter": "python",
      "pygments_lexer": "ipython3",
      "version": "3.8.5"
    }
  },
  "nbformat": 4,
  "nbformat_minor": 0
}
